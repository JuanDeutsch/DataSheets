{
 "cells": [
  {
   "cell_type": "code",
   "execution_count": null,
   "metadata": {},
   "outputs": [],
   "source": [
    "from templateobs import *"
   ]
  },
  {
   "cell_type": "markdown",
   "metadata": {},
   "source": [
    "# Exercise 2\n",
    "## Exercise 2.1"
   ]
  },
  {
   "cell_type": "code",
   "execution_count": 7,
   "metadata": {},
   "outputs": [],
   "source": [
    "def sup(D, X, Y=None):\n",
    "    supp = 0\n",
    "    if Y is None:\n",
    "        for transaction in D:\n",
    "            if all(item in transaction for item in X):\n",
    "                supp += 1\n",
    "    else:\n",
    "        for transaction in D:\n",
    "            if all(item in transaction for item in X) and all(item in transaction for item in Y):\n",
    "                supp += 1\n",
    "    return supp\n",
    "\n",
    "def conf(D, X, Y):\n",
    "    return sup(D, X, Y) / sup(D, X)\n",
    "\n",
    "def lift(D, X, Y=None):\n",
    "    if Y is None:\n",
    "        Y = X.copy()\n",
    "    supports = [sum(all(item in transaction for item in items) for transaction in D) for items in (X, Y, X + Y)]\n",
    "    if 0 in (r_support := [sup / len(D) for sup in supports]):\n",
    "        return None\n",
    "    return r_support[2] / (r_support[0] * r_support[1])\n",
    "\n",
    "def leverage(D, X, Y):\n",
    "    supports = [sum(all(item in transaction for item in items) for transaction in D) for items in (X, Y, X + Y)]\n",
    "    final_leverage = supports[2] / len(D) - (supports[0] / len(D)) * (supports[1] / len(D))\n",
    "    return final_leverage\n",
    "\n",
    "def jaccard(D, X, Y):\n",
    "    return sup(D, X, Y) / (sup(D, X) + sup(D, Y) - sup(D, X, Y))\n",
    "\n",
    "def conviction(D, X, Y):\n",
    "    support_y = sum(all(item in transaction for item in Y) for transaction in D) / len(D)\n",
    "    confidence_xy = conf(D, X, Y)\n",
    "    if confidence_xy >= 1:\n",
    "        return None\n",
    "    return (1 - support_y) / (1 - confidence_xy)\n",
    "\n",
    "def oddsRatio(D, X, Y):\n",
    "    supports = {(False, False): 0, (False, True): 0, (True, False): 0, (True, True): 0}\n",
    "    for transaction in D:\n",
    "        supports[(all(item in transaction for item in X), all(item in transaction for item in Y))] += 1\n",
    "    final_odds_ratio = ((supports[(True, True)] + 1) * (supports[(False, False)] + 1)) / ((supports[(False, True)] + 1) * (supports[(True, False)] + 1))\n",
    "    return final_odds_ratio\n",
    "\n",
    "def imp(D, X, Y):\n",
    "    if len(X) < 2:\n",
    "        return 0\n",
    "    conf_xy = conf(D, X, Y)\n",
    "    w_conf = [conf(D, W, Y) for W in X]\n",
    "    return conf_xy - max(w_conf) if w_conf else 0\n",
    "\n",
    "def getRuleMetric(D,X,Y,metric):\n",
    "    if metric == \"sup\":\n",
    "        return sup(D,X,Y)\n",
    "    elif metric == \"conf\":\n",
    "        return conf(D,X,Y)\n",
    "    elif metric == \"lift\":\n",
    "        return lift(D,X,Y)\n",
    "    elif metric == \"leverage\":\n",
    "        return leverage(D,X,Y)\n",
    "    elif metric == \"jaccard\":\n",
    "        return jaccard(D,X,Y)\n",
    "    elif metric == \"conviction\":\n",
    "        return conviction(D,X,Y)\n",
    "    elif metric == \"oddsratio\":\n",
    "        return oddsRatio(D,X,Y)\n",
    "    elif metric == \"imp\":\n",
    "        return imp(D,X,Y)\n",
    "    else:\n",
    "        return \"metrica invalida\"\n",
    "    \n"
   ]
  },
  {
   "cell_type": "code",
   "execution_count": 9,
   "metadata": {
    "scrolled": true
   },
   "outputs": [
    {
     "ename": "FileNotFoundError",
     "evalue": "[Errno 2] No such file or directory: 'exampleset_numeric.dat'",
     "output_type": "error",
     "traceback": [
      "\u001b[1;31m---------------------------------------------------------------------------\u001b[0m",
      "\u001b[1;31mFileNotFoundError\u001b[0m                         Traceback (most recent call last)",
      "Cell \u001b[1;32mIn[9], line 40\u001b[0m\n\u001b[0;32m     37\u001b[0m     testMetric(\u001b[38;5;124m\"\u001b[39m\u001b[38;5;124mimp\u001b[39m\u001b[38;5;124m\"\u001b[39m, D, [\u001b[38;5;241m3\u001b[39m, \u001b[38;5;241m5\u001b[39m], [\u001b[38;5;241m2\u001b[39m], \u001b[38;5;241m0.0\u001b[39m)\n\u001b[0;32m     38\u001b[0m     testMetric(\u001b[38;5;124m\"\u001b[39m\u001b[38;5;124mimp\u001b[39m\u001b[38;5;124m\"\u001b[39m, D, [\u001b[38;5;241m4\u001b[39m, \u001b[38;5;241m5\u001b[39m], [\u001b[38;5;241m1\u001b[39m], \u001b[38;5;241m0.2\u001b[39m)\n\u001b[1;32m---> 40\u001b[0m \u001b[43mtestMetrics\u001b[49m\u001b[43m(\u001b[49m\u001b[43m)\u001b[49m\n",
      "Cell \u001b[1;32mIn[9], line 13\u001b[0m, in \u001b[0;36mtestMetrics\u001b[1;34m()\u001b[0m\n\u001b[0;32m     12\u001b[0m \u001b[38;5;28;01mdef\u001b[39;00m \u001b[38;5;21mtestMetrics\u001b[39m():\n\u001b[1;32m---> 13\u001b[0m     D \u001b[38;5;241m=\u001b[39m \u001b[43mread_database\u001b[49m\u001b[43m(\u001b[49m\u001b[38;5;124;43m\"\u001b[39;49m\u001b[38;5;124;43mexampleset_numeric.dat\u001b[39;49m\u001b[38;5;124;43m\"\u001b[39;49m\u001b[43m)\u001b[49m\n\u001b[0;32m     14\u001b[0m     testMetric(\u001b[38;5;124m\"\u001b[39m\u001b[38;5;124mconf\u001b[39m\u001b[38;5;124m\"\u001b[39m, D, [\u001b[38;5;241m1\u001b[39m], [\u001b[38;5;241m5\u001b[39m], \u001b[38;5;241m1\u001b[39m)\n\u001b[0;32m     15\u001b[0m     testMetric(\u001b[38;5;124m\"\u001b[39m\u001b[38;5;124mconf\u001b[39m\u001b[38;5;124m\"\u001b[39m, D, [\u001b[38;5;241m5\u001b[39m], [\u001b[38;5;241m1\u001b[39m], \u001b[38;5;241m0.8\u001b[39m)\n",
      "Cell \u001b[1;32mIn[3], line 6\u001b[0m, in \u001b[0;36mread_database\u001b[1;34m(file)\u001b[0m\n\u001b[0;32m      4\u001b[0m \u001b[38;5;28;01mdef\u001b[39;00m \u001b[38;5;21mread_database\u001b[39m(file):\n\u001b[0;32m      5\u001b[0m  db\u001b[38;5;241m=\u001b[39m[]\n\u001b[1;32m----> 6\u001b[0m  \u001b[38;5;28;01mwith\u001b[39;00m \u001b[38;5;28;43mopen\u001b[39;49m\u001b[43m(\u001b[49m\u001b[43mfile\u001b[49m\u001b[43m)\u001b[49m\u001b[38;5;28;01mas\u001b[39;00m f:\n\u001b[0;32m      7\u001b[0m   N\u001b[38;5;241m=\u001b[39mf\u001b[38;5;241m.\u001b[39mreadlines()\n\u001b[0;32m      8\u001b[0m   \u001b[38;5;28;01mfor\u001b[39;00m b \u001b[38;5;129;01min\u001b[39;00m N:\n",
      "File \u001b[1;32m~\\AppData\\Roaming\\Python\\Python312\\site-packages\\IPython\\core\\interactiveshell.py:310\u001b[0m, in \u001b[0;36m_modified_open\u001b[1;34m(file, *args, **kwargs)\u001b[0m\n\u001b[0;32m    303\u001b[0m \u001b[38;5;28;01mif\u001b[39;00m file \u001b[38;5;129;01min\u001b[39;00m {\u001b[38;5;241m0\u001b[39m, \u001b[38;5;241m1\u001b[39m, \u001b[38;5;241m2\u001b[39m}:\n\u001b[0;32m    304\u001b[0m     \u001b[38;5;28;01mraise\u001b[39;00m \u001b[38;5;167;01mValueError\u001b[39;00m(\n\u001b[0;32m    305\u001b[0m         \u001b[38;5;124mf\u001b[39m\u001b[38;5;124m\"\u001b[39m\u001b[38;5;124mIPython won\u001b[39m\u001b[38;5;124m'\u001b[39m\u001b[38;5;124mt let you open fd=\u001b[39m\u001b[38;5;132;01m{\u001b[39;00mfile\u001b[38;5;132;01m}\u001b[39;00m\u001b[38;5;124m by default \u001b[39m\u001b[38;5;124m\"\u001b[39m\n\u001b[0;32m    306\u001b[0m         \u001b[38;5;124m\"\u001b[39m\u001b[38;5;124mas it is likely to crash IPython. If you know what you are doing, \u001b[39m\u001b[38;5;124m\"\u001b[39m\n\u001b[0;32m    307\u001b[0m         \u001b[38;5;124m\"\u001b[39m\u001b[38;5;124myou can use builtins\u001b[39m\u001b[38;5;124m'\u001b[39m\u001b[38;5;124m open.\u001b[39m\u001b[38;5;124m\"\u001b[39m\n\u001b[0;32m    308\u001b[0m     )\n\u001b[1;32m--> 310\u001b[0m \u001b[38;5;28;01mreturn\u001b[39;00m \u001b[43mio_open\u001b[49m\u001b[43m(\u001b[49m\u001b[43mfile\u001b[49m\u001b[43m,\u001b[49m\u001b[43m \u001b[49m\u001b[38;5;241;43m*\u001b[39;49m\u001b[43margs\u001b[49m\u001b[43m,\u001b[49m\u001b[43m \u001b[49m\u001b[38;5;241;43m*\u001b[39;49m\u001b[38;5;241;43m*\u001b[39;49m\u001b[43mkwargs\u001b[49m\u001b[43m)\u001b[49m\n",
      "\u001b[1;31mFileNotFoundError\u001b[0m: [Errno 2] No such file or directory: 'exampleset_numeric.dat'"
     ]
    }
   ],
   "source": [
    "def testMetric(metric, D, X, Y, ex):\n",
    "    exString = str(ex)\n",
    "    dotIndex = exString.find(\".\")\n",
    "    floatPos = len(exString) - dotIndex - 1 if dotIndex >= 0 else 0\n",
    "    actOrig = getRuleMetric(D, X, Y, metric)\n",
    "    try:\n",
    "        act = np.round(actOrig, floatPos)\n",
    "    except:\n",
    "        print(\"PROBLEM WITH \" + str(actOrig))\n",
    "    print ((\"OK    \" if act == ex else \"FAIL  \") + metric + \"(\" + \"\".join([str(x) for x in X]) + \" -> \" + \"\".join([str(x) for x in Y]) + \")\" + ((\"Expected: \" + str(ex) + \" but was \" + str(act))  if act != ex else \"\"))\n",
    "\n",
    "def testMetrics():\n",
    "    D = read_database(\"exampleset_numeric.dat\")\n",
    "    testMetric(\"conf\", D, [1], [5], 1)\n",
    "    testMetric(\"conf\", D, [5], [1], 0.8)\n",
    "    testMetric(\"conf\", D, [2], [5], 0.83)\n",
    "    testMetric(\"conf\", D, [5], [2], 1)\n",
    "    testMetric(\"conf\", D, [5], [2, 3], 0.6)\n",
    "    testMetric(\"conf\", D, [2, 3], [5], 0.75)\n",
    "    testMetric(\"lift\", D, [1], [2], 1)\n",
    "    testMetric(\"lift\", D, [1], [3], 0.75)\n",
    "    testMetric(\"lift\", D, [1], [5], 1.2)\n",
    "    testMetric(\"leverage\", D, [1], [5], 0.11)\n",
    "    testMetric(\"lift\", D, [1, 3, 4], [5], 1.2)\n",
    "    testMetric(\"leverage\", D, [1, 3, 4], [5], 0.03)\n",
    "    testMetric(\"jaccard\", D, [1], [5], 0.8)\n",
    "    testMetric(\"jaccard\", D, [1], [2], 0.67)\n",
    "    testMetric(\"jaccard\", D, [1], [3], 0.33)\n",
    "    testMetric(\"conviction\", D, [1], [4,5], 2)\n",
    "    testMetric(\"conviction\", D, [5], [3], 0.83)\n",
    "    testMetric(\"conviction\", D, [3], [5], 0.67)\n",
    "    testMetric(\"conviction\", D, [4, 5], [1], np.inf)\n",
    "    testMetric(\"oddsratio\", D, [1], [3], 0)\n",
    "    testMetric(\"oddsratio\", D, [1], [4], 3)\n",
    "    testMetric(\"imp\", D, [2, 5], [3], -0.07)\n",
    "    testMetric(\"imp\", D, [2, 3], [5], -0.08)\n",
    "    testMetric(\"imp\", D, [3, 5], [2], 0.0)\n",
    "    testMetric(\"imp\", D, [4, 5], [1], 0.2)\n",
    "\n",
    "testMetrics()"
   ]
  },
  {
   "cell_type": "markdown",
   "metadata": {},
   "source": [
    "## Exercise 2.2"
   ]
  },
  {
   "cell_type": "code",
   "execution_count": null,
   "metadata": {},
   "outputs": [],
   "source": [
    "def filterProductiveRules(D, R):\n",
    "    productive_rules = []\n",
    "    for rule in R:\n",
    "        X, Y, sup_XY, conf_XY = rule\n",
    "        if conf_XY > 0:\n",
    "            productive_rules.append(rule)\n",
    "    return productive_rules"
   ]
  },
  {
   "cell_type": "code",
   "execution_count": null,
   "metadata": {},
   "outputs": [],
   "source": [
    "def test_set_equalness(exp, act):\n",
    "    length_exp = len(exp)\n",
    "    length_act = len(act)\n",
    "    print(\"Length of collection: \" + str(\"OK\" if length_exp == length_act else \"FAILED, expected length \" + str(length_exp) + \" but saw \" + str(length_act)))\n",
    "    obsolete = [f for f in act if not f in exp]\n",
    "    missing = [f for f in exp if not f in act]\n",
    "    if obsolete:\n",
    "        print(\"Found unexpected entries: \" + str(obsolete))\n",
    "        return False\n",
    "    if missing:\n",
    "        print(\"Missing entries: \" + str(missing))\n",
    "        return False\n",
    "    return True\n",
    "        \n",
    "def testFilter():\n",
    "    D = read_database(\"exampleset_numeric.dat\")\n",
    "    R = getStrongRules(D, 3, 1.0)\n",
    "    RF_act = filterProductiveRules(D, R)\n",
    "    \n",
    "    for r in RF_act:\n",
    "        if type(r) != tuple:\n",
    "            print(\"Element in reduced rule set is not a tuple: \" + str(r))\n",
    "            return\n",
    "        if len(r) != 4:\n",
    "            print(\"Length of tuple is not 4: \" + str(r))\n",
    "            return\n",
    "    \n",
    "    RF_exp = [([4, 5], [1, 2], 3, 1.0), ([1], [2, 5], 4, 1.0), ([4, 5], [1], 3, 1.0), ([1], [5], 4, 1.0)]\n",
    "    equal = test_set_equalness(RF_exp, RF_act)\n",
    "    print(\"Filter test: \" + (\"OK\" if equal else \"FAILED\"))\n",
    "    \n",
    "testFilter()"
   ]
  },
  {
   "cell_type": "markdown",
   "metadata": {},
   "source": [
    "## Exercise 2.3\n",
    "no tests for this exercise"
   ]
  }
 ],
 "metadata": {
  "kernelspec": {
   "display_name": "Python 3",
   "language": "python",
   "name": "python3"
  },
  "language_info": {
   "codemirror_mode": {
    "name": "ipython",
    "version": 3
   },
   "file_extension": ".py",
   "mimetype": "text/x-python",
   "name": "python",
   "nbconvert_exporter": "python",
   "pygments_lexer": "ipython3",
   "version": "3.12.1"
  }
 },
 "nbformat": 4,
 "nbformat_minor": 4
}
