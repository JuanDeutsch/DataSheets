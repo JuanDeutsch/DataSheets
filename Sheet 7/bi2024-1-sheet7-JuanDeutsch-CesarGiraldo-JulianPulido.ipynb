{
 "cells": [
  {
   "cell_type": "code",
   "execution_count": 3,
   "metadata": {},
   "outputs": [],
   "source": [
    "import numpy as np\n",
    "import pandas as pd\n"
   ]
  },
  {
   "cell_type": "markdown",
   "metadata": {},
   "source": [
    "### Exercise 2"
   ]
  },
  {
   "cell_type": "markdown",
   "metadata": {},
   "source": [
    "### 2.1"
   ]
  },
  {
   "cell_type": "code",
   "execution_count": 9,
   "metadata": {},
   "outputs": [],
   "source": [
    "def sup(D, X, Y=None):\n",
    "    if Y:\n",
    "        count_XY = sum(1 for transaction in D if set(X).issubset(transaction) and set(Y).issubset(transaction))\n",
    "        return count_XY / len(D)\n",
    "    else:\n",
    "        count_X = sum(1 for transaction in D if set(X).issubset(transaction))\n",
    "        return count_X / len(D)\n",
    "\n",
    "def conf(D, X, Y):\n",
    "    return sup(D, X, Y) / sup(D, X)\n",
    "\n",
    "def lift(D, X, Y=None):\n",
    "    if Y:\n",
    "        return sup(D, X, Y) / (sup(D, X) * sup(D, Y))\n",
    "    else:\n",
    "        return sup(D, X) / (sup(D, X) * sup(D, []))\n",
    "\n",
    "def leverage(D, X, Y):\n",
    "    return sup(D, X, Y) - sup(D, X) * sup(D, Y)\n",
    "\n",
    "def jaccard(D, X, Y):\n",
    "    return sup(D, X, Y) / (sup(D, X) + sup(D, Y) - sup(D, X, Y))\n",
    "\n",
    "def conviction(D, X, Y):\n",
    "    return (1 - sup(D, Y)) / (1 - conf(D, X, Y))\n",
    "\n",
    "def oddsRatio(D, X, Y):\n",
    "    return (sup(D, X, Y) * sup(D, [], [])) / (sup(D, X) * sup(D, Y))\n",
    "\n",
    "def imp(D, X, Y):\n",
    "    return sup(D, X, Y) - max(sup(D, X), sup(D, Y))\n",
    "\n",
    "def getRuleMetric(D, X, Y, metric):\n",
    "    if metric == 'sup':\n",
    "        return sup(D, X, Y)\n",
    "    elif metric == 'conf':\n",
    "        return conf(D, X, Y)\n",
    "    elif metric == 'lift':\n",
    "        return lift(D, X, Y)\n",
    "    elif metric == 'leverage':\n",
    "        return leverage(D, X, Y)\n",
    "    elif metric == 'jaccard':\n",
    "        return jaccard(D, X, Y)\n",
    "    elif metric == 'conviction':\n",
    "        return conviction(D, X, Y)\n",
    "    elif metric == 'oddsRatio':\n",
    "        return oddsRatio(D, X, Y)\n",
    "    elif metric == 'imp':\n",
    "        return imp(D, X, Y)\n",
    "    else:\n",
    "        raise ValueError(\"Unsupported metric\")"
   ]
  },
  {
   "cell_type": "markdown",
   "metadata": {},
   "source": [
    "### 2.2"
   ]
  },
  {
   "cell_type": "code",
   "execution_count": 11,
   "metadata": {},
   "outputs": [],
   "source": [
    "def filterProductiveRules(D, R):\n",
    "    productive_rules = []\n",
    "    for rule in R:\n",
    "        X, Y, sup_XY, conf_XY = rule\n",
    "        if conf_XY > 0:\n",
    "            productive_rules.append(rule)\n",
    "    return productive_rules"
   ]
  },
  {
   "cell_type": "markdown",
   "metadata": {},
   "source": [
    "### 2.3"
   ]
  }
 ],
 "metadata": {
  "kernelspec": {
   "display_name": "Python 3 (ipykernel)",
   "language": "python",
   "name": "python3"
  },
  "language_info": {
   "codemirror_mode": {
    "name": "ipython",
    "version": 3
   },
   "file_extension": ".py",
   "mimetype": "text/x-python",
   "name": "python",
   "nbconvert_exporter": "python",
   "pygments_lexer": "ipython3",
   "version": "3.12.1"
  }
 },
 "nbformat": 4,
 "nbformat_minor": 4
}
