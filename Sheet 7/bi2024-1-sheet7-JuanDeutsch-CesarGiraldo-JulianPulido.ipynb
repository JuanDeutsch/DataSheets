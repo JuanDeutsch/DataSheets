{
 "cells": [
  {
   "cell_type": "code",
   "execution_count": 30,
   "metadata": {},
   "outputs": [],
   "source": [
    "import numpy as np\n",
    "import pandas as pd\n"
   ]
  },
  {
   "cell_type": "markdown",
   "metadata": {},
   "source": [
    "### Exercise 2"
   ]
  },
  {
   "cell_type": "markdown",
   "metadata": {},
   "source": [
    "### 2.1"
   ]
  },
  {
   "cell_type": "code",
   "execution_count": 31,
   "metadata": {},
   "outputs": [],
   "source": [
    "def sup(D, X, Y=None):\n",
    "    supp = 0\n",
    "    if Y is None:\n",
    "        for transaction in D:\n",
    "            if all(item in transaction for item in X):\n",
    "                supp += 1\n",
    "    else:\n",
    "        for transaction in D:\n",
    "            if all(item in transaction for item in X) and all(item in transaction for item in Y):\n",
    "                supp += 1\n",
    "    return supp\n",
    "\n",
    "def conf(D, X, Y):\n",
    "    return sup(D, X, Y) / sup(D, X)\n",
    "\n",
    "def lift(D, X, Y=None):\n",
    "    if Y is None:\n",
    "        Y = X.copy()\n",
    "    supports = [sum(all(item in transaction for item in items) for transaction in D) for items in (X, Y, X + Y)]\n",
    "    if 0 in (r_support := [sup / len(D) for sup in supports]):\n",
    "        return None\n",
    "    return r_support[2] / (r_support[0] * r_support[1])\n",
    "\n",
    "def leverage(D, X, Y):\n",
    "    supports = [sum(all(item in transaction for item in items) for transaction in D) for items in (X, Y, X + Y)]\n",
    "    final_leverage = supports[2] / len(D) - (supports[0] / len(D)) * (supports[1] / len(D))\n",
    "    return final_leverage\n",
    "\n",
    "def jaccard(D, X, Y):\n",
    "    return sup(D, X, Y) / (sup(D, X) + sup(D, Y) - sup(D, X, Y))\n",
    "\n",
    "def conviction(D, X, Y):\n",
    "    support_y = sum(all(item in transaction for item in Y) for transaction in D) / len(D)\n",
    "    confidence_xy = conf(D, X, Y)\n",
    "    if confidence_xy >= 1:\n",
    "        return None\n",
    "    return (1 - support_y) / (1 - confidence_xy)\n",
    "\n",
    "def oddsRatio(D, X, Y):\n",
    "    supports = {(False, False): 0, (False, True): 0, (True, False): 0, (True, True): 0}\n",
    "    for transaction in D:\n",
    "        supports[(all(item in transaction for item in X), all(item in transaction for item in Y))] += 1\n",
    "    final_odds_ratio = ((supports[(True, True)] + 1) * (supports[(False, False)] + 1)) / ((supports[(False, True)] + 1) * (supports[(True, False)] + 1))\n",
    "    return final_odds_ratio\n",
    "\n",
    "def imp(D, X, Y):\n",
    "    if len(X) < 2:\n",
    "        return 0\n",
    "    conf_xy = conf(D, X, Y)\n",
    "    w_conf = [conf(D, W, Y) for W in X]\n",
    "    return conf_xy - max(w_conf) if w_conf else 0\n",
    "\n",
    "def getRuleMetric(D,X,Y,metric):\n",
    "    if metric == \"sup\":\n",
    "        return sup(D,X,Y)\n",
    "    elif metric == \"conf\":\n",
    "        return conf(D,X,Y)\n",
    "    elif metric == \"lift\":\n",
    "        return lift(D,X,Y)\n",
    "    elif metric == \"leverage\":\n",
    "        return leverage(D,X,Y)\n",
    "    elif metric == \"jaccard\":\n",
    "        return jaccard(D,X,Y)\n",
    "    elif metric == \"conviction\":\n",
    "        return conviction(D,X,Y)\n",
    "    elif metric == \"oddsratio\":\n",
    "        return oddsRatio(D,X,Y)\n",
    "    elif metric == \"imp\":\n",
    "        return imp(D,X,Y)\n",
    "    else:\n",
    "        return \"metrica invalida\"\n",
    "    \n"
   ]
  },
  {
   "cell_type": "markdown",
   "metadata": {},
   "source": [
    "### 2.2"
   ]
  },
  {
   "cell_type": "code",
   "execution_count": 32,
   "metadata": {},
   "outputs": [],
   "source": [
    "def filterProductiveRules(D, R):\n",
    "    productive_rules = []\n",
    "    for rule in R:\n",
    "        X, Y, sup_XY, conf_XY = rule\n",
    "        if conf_XY > 0:\n",
    "            productive_rules.append(rule)\n",
    "    return productive_rules"
   ]
  },
  {
   "cell_type": "markdown",
   "metadata": {},
   "source": [
    "### 2.3"
   ]
  },
  {
   "cell_type": "code",
   "execution_count": null,
   "metadata": {},
   "outputs": [],
   "source": []
  }
 ],
 "metadata": {
  "kernelspec": {
   "display_name": "Python 3 (ipykernel)",
   "language": "python",
   "name": "python3"
  },
  "language_info": {
   "codemirror_mode": {
    "name": "ipython",
    "version": 3
   },
   "file_extension": ".py",
   "mimetype": "text/x-python",
   "name": "python",
   "nbconvert_exporter": "python",
   "pygments_lexer": "ipython3",
   "version": "3.12.1"
  }
 },
 "nbformat": 4,
 "nbformat_minor": 4
}
