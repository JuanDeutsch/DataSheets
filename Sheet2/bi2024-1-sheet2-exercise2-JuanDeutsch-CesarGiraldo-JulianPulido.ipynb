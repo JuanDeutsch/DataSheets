{
 "cells": [
  {
   "cell_type": "markdown",
   "metadata": {},
   "source": [
    "# Juan Manuel Deutsch, Cesar Felipe Giraldo, Julian Felipe Pulido"
   ]
  },
  {
   "cell_type": "code",
   "execution_count": 6,
   "metadata": {},
   "outputs": [],
   "source": [
    "import numpy as np\n",
    "import pandas as pd\n",
    "import matplotlib.pyplot as plt"
   ]
  },
  {
   "cell_type": "markdown",
   "metadata": {},
   "source": [
    "# Exercise 2.1"
   ]
  },
  {
   "cell_type": "code",
   "execution_count": 11,
   "metadata": {},
   "outputs": [
    {
     "name": "stdout",
     "output_type": "stream",
     "text": [
      "mu: OK\n",
      "cov: OK\n",
      "cor: OK\n"
     ]
    }
   ],
   "source": [
    "## unit-tests for getStats and getEigen\n",
    "import warnings\n",
    "dfIrisTest = pd.read_csv(\"https://raw.githubusercontent.com/uiuc-cse/data-fa14/gh-pages/data/iris.csv\")\n",
    "AIris = dfIrisTest.values[:,0:4].astype(float)\n",
    "def testStats(expected, A):\n",
    "    def getStats(A):\n",
    "        #Media\n",
    "        mu = list(sum(row)/len(row) for row in zip(*A))\n",
    "\n",
    "        #Covarianza\n",
    "        n = A.shape[0]\n",
    "        cov_mu = A - mu\n",
    "        cov = np.dot(cov_mu.T, cov_mu) / (n)\n",
    "        #Shape devuelve la cantidad de datos que se tiene un array\n",
    "        \n",
    "        #Correlación\n",
    "        desv = np.sqrt(np.diag(cov))\n",
    "        cor = cov / np.outer(desv, desv)\n",
    "\n",
    "        return mu, cov, cor\n",
    "    out = getStats(A)\n",
    "    if type(out) != tuple or len(out) != 3:\n",
    "        warnings.warn(\"getStats not working properly! Output of getStats should be a tuple of length 3!\")\n",
    "        return\n",
    "    mu, cov, cor = out\n",
    "    print(\"mu:\", \"OK\" if np.array_equal(np.round(expected[0], 3), np.round(mu, 3)) else \"FAIL\")\n",
    "    print(\"cov:\", \"OK\" if np.array_equal(np.round(expected[1], 3), np.round(cov, 3)) else \"FAIL\")\n",
    "    print(\"cor:\", \"OK\" if np.array_equal(np.round(expected[2], 3), np.round(cor, 3)) else \"FAIL\")\n",
    "\n",
    "covIris = np.array([[ 0.681, -0.039, 1.265, 0.513], [-0.039, 0.187, -0.32, -0.117], [1.265, -0.32, 3.092, 1.288], [0.513, -0.117,  1.288,  0.579]])\n",
    "testStats(([5.843, 3.054, 3.759, 1.199], covIris, np.array([[ 1., -0.109, 0.872, 0.818], [-0.109,  1., -0.421, -0.357], [0.872, -0.421, 1., 0.963], [0.818, -0.357, 0.963,  1.]])), AIris)"
   ]
  },
  {
   "cell_type": "markdown",
   "metadata": {},
   "source": [
    "# Exercise 2.2"
   ]
  },
  {
   "cell_type": "markdown",
   "metadata": {},
   "source": [
    "# Exercise 2.3"
   ]
  }
 ],
 "metadata": {
  "kernelspec": {
   "display_name": "Python 3 (ipykernel)",
   "language": "python",
   "name": "python3"
  },
  "language_info": {
   "codemirror_mode": {
    "name": "ipython",
    "version": 3
   },
   "file_extension": ".py",
   "mimetype": "text/x-python",
   "name": "python",
   "nbconvert_exporter": "python",
   "pygments_lexer": "ipython3",
   "version": "3.10.11"
  }
 },
 "nbformat": 4,
 "nbformat_minor": 2
}
