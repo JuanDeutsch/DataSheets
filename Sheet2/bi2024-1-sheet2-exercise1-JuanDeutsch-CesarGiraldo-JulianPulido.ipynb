{
 "cells": [
  {
   "cell_type": "markdown",
   "metadata": {},
   "source": [
    "# Exercise 1.2"
   ]
  },
  {
   "cell_type": "markdown",
   "metadata": {},
   "source": [
    "## A"
   ]
  },
  {
   "cell_type": "code",
   "execution_count": 13,
   "metadata": {},
   "outputs": [],
   "source": [
    "import numpy as np"
   ]
  },
  {
   "cell_type": "code",
   "execution_count": 14,
   "metadata": {},
   "outputs": [
    {
     "name": "stdout",
     "output_type": "stream",
     "text": [
      "\n",
      "Matriz base:\n",
      "[[5 2]\n",
      " [9 7]\n",
      " [6 1]]\n",
      "\n",
      "Matriz base transformada:\n",
      "[[10  4]\n",
      " [18 14]\n",
      " [12  2]]\n",
      "\n",
      "Covarianza de la matriz base:\n",
      "[[2.88888889 4.11111111]\n",
      " [4.11111111 6.88888889]]\n",
      "\n",
      "Covarianza de la matriz base transformada:\n",
      "[[11.55555556 16.44444444]\n",
      " [16.44444444 27.55555556]]\n"
     ]
    }
   ],
   "source": [
    "D = np.array([[5, 2], [9, 7], [6, 1]])\n",
    "print(\"\\nMatriz base:\")\n",
    "print(D)\n",
    "DT = D*2\n",
    "print(\"\\nMatriz base transformada:\")\n",
    "print(DT)\n",
    "\n",
    "CD = np.cov(D, rowvar=False, bias=True)\n",
    "print(\"\\nCovarianza de la matriz base:\")\n",
    "print(CD)\n",
    "CDT = np.cov(DT, rowvar=False, bias=True)\n",
    "print(\"\\nCovarianza de la matriz base transformada:\")\n",
    "print(CDT)\n",
    "\n",
    "#Se pone rowvar (Variable de fila) en falso, ya que nuestras variables estan representadas por columnas, no por filas"
   ]
  },
  {
   "cell_type": "markdown",
   "metadata": {},
   "source": [
    "Tenemos la matriz D, la base de nuestro ejercicio y tenemos la transformación DT, multiplicando cada dato de la matriz por 2, para luego calcular las covarianzas de ambas matrices mostrando que la transformacion de los datos puede cambiar el resultado de la covarianza"
   ]
  },
  {
   "cell_type": "markdown",
   "metadata": {},
   "source": [
    "## B"
   ]
  },
  {
   "cell_type": "code",
   "execution_count": 15,
   "metadata": {},
   "outputs": [
    {
     "name": "stdout",
     "output_type": "stream",
     "text": [
      "Matriz transformada afin:\n",
      "[[55 25]\n",
      " [95 75]\n",
      " [65 15]]\n",
      "\n",
      "Media de la matriz base:\n",
      "[6.66666667 3.33333333]\n",
      "\n",
      "Media de la matriz afin:\n",
      "[71.66666667 38.33333333]\n",
      "\n",
      "Covarianza de la matriz base:\n",
      "[[2.88888889 4.11111111]\n",
      " [4.11111111 6.88888889]]\n",
      "\n",
      "Covarianza de la matriz afin:\n",
      "[[288.88888889 411.11111111]\n",
      " [411.11111111 688.88888889]]\n",
      "\n",
      "Media de la matriz afin esperada:\n",
      "[71.66666667 38.33333333]\n",
      "\n",
      "Covarianza de la matriz afin esperada:\n",
      "[[288.88888889 411.11111111]\n",
      " [411.11111111 688.88888889]]\n"
     ]
    }
   ],
   "source": [
    "a = 10\n",
    "b = 5\n",
    "\n",
    "DTA = a * D + b\n",
    "print(\"Matriz transformada afin:\")\n",
    "print(DTA)\n",
    "\n",
    "mu = np.mean(D, axis=0)\n",
    "print(\"\\nMedia de la matriz base:\")\n",
    "print(mu)\n",
    "\n",
    "mut = np.mean(DTA, axis=0)\n",
    "print(\"\\nMedia de la matriz afin:\")\n",
    "print(mut)\n",
    "#Se pone axis = 0 para que calule la media de cada columna\n",
    "\n",
    "print(\"\\nCovarianza de la matriz base:\")\n",
    "print(CD)\n",
    "\n",
    "CDTA = np.cov(DTA, rowvar=False, bias=True)\n",
    "print(\"\\nCovarianza de la matriz afin:\")\n",
    "print(CDTA)\n",
    "\n",
    "mut_esperado = a * mu + b\n",
    "print(\"\\nMedia de la matriz afin esperada:\")\n",
    "print(mut_esperado)\n",
    "\n",
    "CDTA_esperado = a*a*CD\n",
    "print(\"\\nCovarianza de la matriz afin esperada:\")\n",
    "print(CDTA_esperado)"
   ]
  },
  {
   "cell_type": "markdown",
   "metadata": {},
   "source": [
    "Para una transformación afin que es $$f_j(x) = ax + b$$ para el calculo de la media y covarianza de la matriz transformada seria:\n",
    "\n",
    "Media:\n",
    "$$μ_{j}t = 1/n\\sum_{i=1}^nf_j(D_{i,j})=1/n\\sum_{i=1}^aμ_j+b=aμ_j+b$$\n",
    "\n",
    "Covarianza:\n",
    "$$σ_{ij}t = 1/n\\sum_{k=1}^n(f_i(D_{k,i}) - μ_{j}t)(f_j(D_{k,j})-μ_{j}t)$$\n",
    "$$=1/n\\sum_{k=1}^na_ia_j(σ_{ij})$$\n",
    "$$=a_ia_jσ_{ij}$$\n",
    "\n",
    "Donde $μ_{j}t$ es la media de la matriz transformada, $μ_j$ la media de la matriz base, $σ_{ij}t$ es la covarianza de la matriz transformada y $σ_{ij}$ la covarianza de la matriz base"
   ]
  },
  {
   "cell_type": "markdown",
   "metadata": {},
   "source": [
    "Para este punto tenemos la matriz DTA, que es la matriz D tranformada afin, que esta transformación consiste en una transformación lineal seguida de una traslación, donde se calcula la media y la covarianza de la matriz transformada con funciones de Numpy, para luego por medio de las ecuaciones presentadas μj=ajμj+b y σij=aiajσij, estas para la matriz tranformada, mostrar que los resultados de las funciones dan igual al de las ecuaciones"
   ]
  },
  {
   "cell_type": "markdown",
   "metadata": {},
   "source": [
    "## C"
   ]
  },
  {
   "cell_type": "code",
   "execution_count": 16,
   "metadata": {},
   "outputs": [
    {
     "name": "stdout",
     "output_type": "stream",
     "text": [
      "\n",
      "Correlación matriz base:\n",
      "[[1.         0.92155064]\n",
      " [0.92155064 1.        ]]\n",
      "\n",
      "Correlación matriz afin:\n",
      "[[1.         0.92155064]\n",
      " [0.92155064 1.        ]]\n"
     ]
    }
   ],
   "source": [
    "CRD = np.corrcoef(D, rowvar=False)\n",
    "print(\"\\nCorrelación matriz base:\")\n",
    "print(CRD)\n",
    "\n",
    "CRDTA = np.corrcoef(DTA, rowvar=False)\n",
    "print(\"\\nCorrelación matriz afin:\")\n",
    "print(CRDTA)"
   ]
  },
  {
   "cell_type": "markdown",
   "metadata": {},
   "source": [
    "Esta propiedad nos da a entender que sin importar las transformaciones la correlación va a ser la misma"
   ]
  }
 ],
 "metadata": {
  "kernelspec": {
   "display_name": "Python 3 (ipykernel)",
   "language": "python",
   "name": "python3"
  },
  "language_info": {
   "codemirror_mode": {
    "name": "ipython",
    "version": 3
   },
   "file_extension": ".py",
   "mimetype": "text/x-python",
   "name": "python",
   "nbconvert_exporter": "python",
   "pygments_lexer": "ipython3",
   "version": "3.10.11"
  }
 },
 "nbformat": 4,
 "nbformat_minor": 2
}
