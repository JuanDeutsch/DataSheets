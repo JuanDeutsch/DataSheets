{
 "cells": [
  {
   "cell_type": "markdown",
   "metadata": {},
   "source": [
    "# Juan Manuel Deutsch, Cesar Felipe Giraldo, Julian Felipe Pulido"
   ]
  },
  {
   "cell_type": "markdown",
   "metadata": {},
   "source": [
    "# Exercise 1.2"
   ]
  },
  {
   "cell_type": "markdown",
   "metadata": {},
   "source": [
    "## A"
   ]
  },
  {
   "cell_type": "code",
   "execution_count": 13,
   "metadata": {},
   "outputs": [],
   "source": [
    "import numpy as np"
   ]
  },
  {
   "cell_type": "code",
   "execution_count": 14,
   "metadata": {},
   "outputs": [
    {
     "name": "stdout",
     "output_type": "stream",
     "text": [
      "\n",
      "Matriz base:\n",
      "[[5 2]\n",
      " [9 7]\n",
      " [6 1]]\n",
      "\n",
      "Matriz base transformada:\n",
      "[[10  4]\n",
      " [18 14]\n",
      " [12  2]]\n",
      "\n",
      "Covarianza de la matriz base:\n",
      "[[2.88888889 4.11111111]\n",
      " [4.11111111 6.88888889]]\n",
      "\n",
      "Covarianza de la matriz base transformada:\n",
      "[[11.55555556 16.44444444]\n",
      " [16.44444444 27.55555556]]\n"
     ]
    }
   ],
   "source": [
    "D = np.array([[5, 2], [9, 7], [6, 1]])\n",
    "print(\"\\nMatriz base:\")\n",
    "print(D)\n",
    "DT = D*2\n",
    "print(\"\\nMatriz base transformada:\")\n",
    "print(DT)\n",
    "\n",
    "CD = np.cov(D, rowvar=False, bias=True)\n",
    "print(\"\\nCovarianza de la matriz base:\")\n",
    "print(CD)\n",
    "CDT = np.cov(DT, rowvar=False, bias=True)\n",
    "print(\"\\nCovarianza de la matriz base transformada:\")\n",
    "print(CDT)\n",
    "\n",
    "#Se pone rowvar (Variable de fila) en falso, ya que nuestras variables estan representadas por columnas, no por filas y bias en true para que el denominador no sea N-1 si no N"
   ]
  },
  {
   "cell_type": "markdown",
   "metadata": {},
   "source": [
    "Tenemos la matriz D, la base de nuestro ejercicio y tenemos la transformación DT, multiplicando cada dato de la matriz por 2, para luego calcular las covarianzas de ambas matrices mostrando que la transformacion de los datos puede cambiar el resultado de la covarianza"
   ]
  },
  {
   "cell_type": "markdown",
   "metadata": {},
   "source": [
    "## B"
   ]
  },
  {
   "cell_type": "markdown",
   "metadata": {},
   "source": [
    "Para una transformación afin que es $$f_j(x) = ax + b$$ para el calculo de la media y covarianza de la matriz transformada seria:\n",
    "\n",
    "Media:\n",
    "$$μ_{j}t = 1/n\\sum_{i=1}^nf_j(D_{i,j})=1/n\\sum_{i=1}^aμ_j+b=aμ_j+b$$\n",
    "\n",
    "Covarianza:\n",
    "$$σ_{ij}t = 1/n\\sum_{k=1}^n(f_i(D_{k,i}) - μ_{j}t)(f_j(D_{k,j})-μ_{j}t)$$\n",
    "$$=1/n\\sum_{k=1}^na_ia_j(σ_{ij})$$\n",
    "$$=a_ia_jσ_{ij}$$\n",
    "\n",
    "Donde $μ_{j}t$ es la media de la matriz transformada, $μ_j$ la media de la matriz base, $σ_{ij}t$ es la covarianza de la matriz transformada y $σ_{ij}$ la covarianza de la matriz base"
   ]
  },
  {
   "cell_type": "markdown",
   "metadata": {},
   "source": [
    "## C"
   ]
  },
  {
   "cell_type": "markdown",
   "metadata": {},
   "source": [
    "La correlación entre $X_i$ y $X_j$ de la matriz transformada y la matriz base:\n",
    "\n",
    "$$ρ_{ij}t = σ_{ij}t/\\sqrt{σ_{ii}tσ_{jj}t} = a_ia_jσ_{ij}/\\sqrt{a_{i}^2σ_{ii}*a_{j}^2σ_{jj}} = σ_{ij}/\\sqrt{σ_{ii}σ_{jj}} = ρ_{ij}$$\n",
    "\n",
    "Donde $ρ_{ij}t$ es la correlación transformada y $ρ_{ij}$ es la correlación base\n",
    "\n",
    "La propiedad demuestra que la correlacion entre dos variables no cambia despues de una tranformación afín"
   ]
  }
 ],
 "metadata": {
  "kernelspec": {
   "display_name": "Python 3 (ipykernel)",
   "language": "python",
   "name": "python3"
  },
  "language_info": {
   "codemirror_mode": {
    "name": "ipython",
    "version": 3
   },
   "file_extension": ".py",
   "mimetype": "text/x-python",
   "name": "python",
   "nbconvert_exporter": "python",
   "pygments_lexer": "ipython3",
   "version": "3.10.11"
  }
 },
 "nbformat": 4,
 "nbformat_minor": 2
}
