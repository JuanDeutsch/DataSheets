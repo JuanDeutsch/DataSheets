{
 "cells": [
  {
   "cell_type": "markdown",
   "metadata": {},
   "source": [
    "### Exercise 2"
   ]
  },
  {
   "cell_type": "code",
   "execution_count": 72,
   "metadata": {},
   "outputs": [
    {
     "name": "stdout",
     "output_type": "stream",
     "text": [
      "[[1 2 3]\n",
      " [4 5 6]]\n",
      "[2.0, 5.0]\n",
      "[2. 5.]\n"
     ]
    }
   ],
   "source": [
    "import numpy as np\n",
    "A = np.array([[1, 2, 3], [4, 5, 6]])\n",
    "print(A)\n",
    "def getStats(A):\n",
    "    \n",
    "    mean = list(sum(i)/len(i) for i in A)\n",
    "    var = list((sum((row-mean)**2))/len(row) for row, mean in zip(A, mean))\n",
    "    # centered_data = tuple(tuple(row[i] - mean[i] for i in range(len(row))) for row in A)\n",
    "    \n",
    "    covar = sum(((A[0]-mean[0])*(A[1]-mean[1])))/len(A[0])\n",
    "    cov = np.cov(A, rowvar = False)\n",
    "    print(mean)\n",
    "    print(np.mean(A, axis = 1))\n",
    "    # print(mean, var, covar, cov)\n",
    "getStats(A)"
   ]
  },
  {
   "cell_type": "code",
   "execution_count": null,
   "metadata": {},
   "outputs": [],
   "source": []
  }
 ],
 "metadata": {
  "kernelspec": {
   "display_name": "Python 3",
   "language": "python",
   "name": "python3"
  },
  "language_info": {
   "codemirror_mode": {
    "name": "ipython",
    "version": 3
   },
   "file_extension": ".py",
   "mimetype": "text/x-python",
   "name": "python",
   "nbconvert_exporter": "python",
   "pygments_lexer": "ipython3",
   "version": "3.11.0"
  }
 },
 "nbformat": 4,
 "nbformat_minor": 2
}
