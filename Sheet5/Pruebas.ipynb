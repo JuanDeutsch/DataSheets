{
 "cells": [
  {
   "cell_type": "code",
   "execution_count": 178,
   "metadata": {},
   "outputs": [],
   "source": [
    "import numpy as np"
   ]
  },
  {
   "cell_type": "code",
   "execution_count": 179,
   "metadata": {},
   "outputs": [],
   "source": [
    "def getDistances(A):\n",
    "    if not isinstance(A, np.ndarray):\n",
    "        A = A.values.reshape(-1, A.shape[-1])\n",
    "\n",
    "    n = A.shape[0]\n",
    "    Distance = np.zeros((n,n))\n",
    "    for i in range(n):\n",
    "        for j in range(i, n):\n",
    "            Distance[i,j] = np.linalg.norm(A[i] - A[j])\n",
    "            Distance[j,i] = Distance[i,j]\n",
    "    return Distance"
   ]
  },
  {
   "cell_type": "code",
   "execution_count": 180,
   "metadata": {},
   "outputs": [],
   "source": [
    "def getW(D,U,V):\n",
    "    weight = 0\n",
    "    for i in U:\n",
    "        for j in V:\n",
    "            weight += D[i,j]\n",
    "    return weight\n",
    "    "
   ]
  },
  {
   "cell_type": "code",
   "execution_count": 181,
   "metadata": {},
   "outputs": [],
   "source": [
    "def getWIn(D,C):\n",
    "    Win = 0\n",
    "    clusters = set(C)\n",
    "    for cluster in clusters:\n",
    "        indices = [i for i, x in enumerate(C) if x == cluster]\n",
    "        Win += getW(D, indices, indices)\n",
    "    return round(Win/2, 0)"
   ]
  },
  {
   "cell_type": "code",
   "execution_count": 182,
   "metadata": {},
   "outputs": [],
   "source": [
    "def getWOut(D,C):\n",
    "    Wout = 0\n",
    "    clusters = set(C)\n",
    "    for cluster in clusters:\n",
    "        indices = [i for i, x in enumerate(C) if x == cluster]\n",
    "        for i in indices:\n",
    "            for j in range(len(D)):\n",
    "                if j in indices:\n",
    "                    continue\n",
    "                Wout += D[i,j]\n",
    "    return round(Wout/2,0)"
   ]
  },
  {
   "cell_type": "code",
   "execution_count": 183,
   "metadata": {},
   "outputs": [],
   "source": [
    "def getNIn(C):\n",
    "    Nin = 0\n",
    "    clusters = set(C)\n",
    "    for cluster in clusters:\n",
    "        n = [i for i, x in enumerate(C) if x == cluster]\n",
    "        Nin += len(n) * (len(n)-1)/2\n",
    "    return Nin"
   ]
  },
  {
   "cell_type": "code",
   "execution_count": 184,
   "metadata": {},
   "outputs": [],
   "source": [
    "def getNOut(C):\n",
    "    n = len(C)\n",
    "    Nout = (n*(n-1)/2) - getNIn(C)\n",
    "    return Nout"
   ]
  },
  {
   "cell_type": "code",
   "execution_count": 185,
   "metadata": {},
   "outputs": [],
   "source": [
    "def getBetaCV(A, C):\n",
    "    D = getDistances(A)\n",
    "    Win = getWIn(D, C)\n",
    "    Wout = getWOut(D, C)\n",
    "    Nin = getNIn(C)\n",
    "    Nout = getNOut(C)\n",
    "    BetaCV = (Win / Nin) / (Wout / Nout)\n",
    "    return BetaCV"
   ]
  },
  {
   "cell_type": "code",
   "execution_count": 186,
   "metadata": {},
   "outputs": [],
   "source": [
    "def getCIndex(A,C):\n",
    "    W = getDistances(A)\n",
    "    Nin = getNIn(C)\n",
    "    Wflat = np.ravel(W)\n",
    "    Wmin = np.sum(np.partition(Wflat, int(Nin))[:int(Nin)])\n",
    "    Wmax = np.sum(np.partition(Wflat, -int(Nin))[-int(Nin):])\n",
    "    Win = getWIn(W, C)\n",
    "    CIndex = ((Win - Wmin)/(Wmax - Wmin))/2\n",
    "    return CIndex"
   ]
  },
  {
   "cell_type": "code",
   "execution_count": 194,
   "metadata": {},
   "outputs": [],
   "source": [
    "def getNormalizedCut(A, C):\n",
    "    win = getWIn(A, C)\n",
    "    wout = getWOut(A, C)\n",
    "\n",
    "    vol = [getW(A, [i], range(len(A))) for i in range(len(C))]\n",
    "\n",
    "    normalized_cut = 0\n",
    "    for i in range(len(C)):\n",
    "        normalized_cut += wout / vol[i]\n",
    "\n",
    "    return normalized_cut"
   ]
  },
  {
   "cell_type": "code",
   "execution_count": 188,
   "metadata": {},
   "outputs": [],
   "source": [
    "def getDunn(A, C):\n",
    "    D = getDistances(A=A)\n",
    "\n",
    "    w_min_out = np.inf\n",
    "    for i in range(len(C)):\n",
    "        for j in range(i+1, len(C)):\n",
    "            i_points = np.where(np.array(C) == i)[0]\n",
    "            j_points = np.where(np.array(C) == j)[0]\n",
    "            matrix_dist = D[np.ix_(i_points, j_points)]\n",
    "            dist_min = np.min(matrix_dist)\n",
    "            if dist_min < w_min_out:\n",
    "                w_min_out = dist_min\n",
    "\n",
    "    w_max_in = 0\n",
    "    for i in range(len(C)):\n",
    "        i_points = np.where(np.array(C) == i)[0]\n",
    "        matrix_dist = D[np.ix_(i_points, i_points)]\n",
    "        dist_max = np.max(matrix_dist)\n",
    "        if dist_max > w_max_in:\n",
    "            w_max_in = dist_max\n",
    "\n",
    "    dunn = w_min_out / w_max_in\n",
    "    return dunn"
   ]
  },
  {
   "cell_type": "code",
   "execution_count": 189,
   "metadata": {},
   "outputs": [],
   "source": [
    "def getDaviesBouldin(A, C):\n",
    "    D = getDistances(A=A)\n",
    "    \n",
    "    centroids = []\n",
    "    for id_cluster in set(C):\n",
    "        cluster_points = A[np.where(np.array(C) == id_cluster)]\n",
    "        centroids.append(np.mean(cluster_points, axis=0))\n",
    "\n",
    "        dispersion = []\n",
    "        for id_cluster in set(C):\n",
    "            cluster_points = A[np.where(np.array(C) == id_cluster)]\n",
    "            centroid = centroids[id_cluster]\n",
    "            dispersion_cluster = np.mean(np.linalg.norm(cluster_points - centroid, axis=1))\n",
    "            dispersion.append(dispersion_cluster)\n",
    "\n",
    "        distances_centroid = []\n",
    "        for i in range(len(set(C))):\n",
    "            for j in range(i+1, len(set(C))):\n",
    "                distance = np.linalg.norm(centroids[i] - centroids[j])\n",
    "                distances_centroid.append(distance)\n",
    "\n",
    "        DaviesBouldin = np.mean([(dispersion[i] + dispersion[j]) / distances_centroid[idx] for idx, (i, j) in enumerate(zip(range(len(set(C))), range(len(set(C))))) if i != j])\n",
    "        return DaviesBouldin\n",
    "\n",
    "        \n"
   ]
  },
  {
   "cell_type": "code",
   "execution_count": 190,
   "metadata": {},
   "outputs": [],
   "source": [
    "def getSilhouette(A, C):\n",
    "    D = getDistances(A=A)\n",
    "    n = len(A)\n",
    "    SilhouetteCoefficient = 0\n",
    "\n",
    "    for i in range(n):\n",
    "        id_cluster = C[i]\n",
    "        points_cluster = np.where(np.array(C) == id_cluster)[0]\n",
    "        outside_mean = np.mean(D[i, points_cluster])\n",
    "\n",
    "        min_out = np.inf\n",
    "        for j in range(len(set(C))):\n",
    "            if j != id_cluster:\n",
    "                other_cluster_points = np.where(np.array(C) == j)[0]\n",
    "                inside_mean = np.mean(D[i, other_cluster_points])\n",
    "                if inside_mean < min_out:\n",
    "                    min_out = inside_mean\n",
    "\n",
    "        silhouette_i = (min_out - outside_mean)/ max(outside_mean, min_out)\n",
    "        SilhouetteCoefficient += silhouette_i\n",
    "\n",
    "    SilhouetteCoefficient /= n\n",
    "    return SilhouetteCoefficient\n",
    "                "
   ]
  },
  {
   "cell_type": "code",
   "execution_count": 191,
   "metadata": {},
   "outputs": [],
   "source": [
    "def getMetric(A, C, metric):\n",
    "    if metric == \"beta\":\n",
    "        return getBetaCV(A, C)\n",
    "    elif metric == \"cindex\":\n",
    "        return getCIndex(A, C)\n",
    "    elif metric == \"nc\":\n",
    "        return getNormalizedCut(A, C)\n",
    "    elif metric == \"dunn\":\n",
    "        return getDunn(A, C)\n",
    "    elif metric == \"db\":\n",
    "        return getDaviesBouldin(A, C)\n",
    "    elif metric == \"sil\":\n",
    "        return getSilhouette(A, C)\n",
    "    else:\n",
    "        raise ValueError(\"No hay metrica\")"
   ]
  },
  {
   "cell_type": "code",
   "execution_count": 192,
   "metadata": {},
   "outputs": [
    {
     "name": "stdout",
     "output_type": "stream",
     "text": [
      "<class 'pandas.core.frame.DataFrame'>\n",
      "\n",
      "Test Weight Measures\n",
      "------------------\n",
      "W: ok\n",
      "WIn: ok\n",
      "WOut: ok\n",
      "NIn: ok\n",
      "NOut: ok\n"
     ]
    }
   ],
   "source": [
    "import pandas as pd_test\n",
    "import numpy as np_test\n",
    "dfIrisTest = pd_test.read_csv(\"https://raw.githubusercontent.com/uiuc-cse/data-fa14/gh-pages/data/iris.csv\")\n",
    "A_Iris_Test = dfIrisTest[dfIrisTest.columns[:4]].astype(float)\n",
    "C_Iris_Test = dfIrisTest[dfIrisTest.columns[4]]\n",
    "print(type(A_Iris_Test))\n",
    "D_Iris_Test = getDistances(A_Iris_Test)\n",
    "C1 = np.where(C_Iris_Test == 'setosa')[0]\n",
    "C2 = np.where(C_Iris_Test == 'versicolor')[0]\n",
    "C3 = np.where(C_Iris_Test == 'virginica')[0]\n",
    "CList = [C1, C2, C3]\n",
    "\n",
    "print (\"\\nTest Weight Measures\\n------------------\")\n",
    "expectedW = {\n",
    "    (0,1): 8246,\n",
    "    (0,2): 12056,\n",
    "    (1,2): 4606\n",
    "}\n",
    "wSummary = \"W: \"\n",
    "wFailed = False\n",
    "for i in range(3):\n",
    "    for j in range(i):\n",
    "        p1 = (i,j)\n",
    "        p2 = (j,i)\n",
    "        W1 = np_test.round(getW(D_Iris_Test, CList[i], CList[j]))\n",
    "        W2 = np_test.round(getW(D_Iris_Test, CList[j], CList[i]))\n",
    "        if W1 != W2:\n",
    "            if not wFailed:\n",
    "                wSummary += \"failed\"\n",
    "            wSummary += \"\\n\\tasymmetry of W: \" + str(W1) + \" != \" + str(W2)\n",
    "            wFailed = True\n",
    "        \n",
    "        if W1 != expectedW[p2]:\n",
    "            if not wFailed:\n",
    "                wSummary += \"failed\"\n",
    "            wSummary += \"\\n\\tunexpected value of W: \" + str(W1) + \" instead of expected \" + str(expectedW[p2])\n",
    "            wFailed = True\n",
    "if not wFailed:\n",
    "    wSummary += \"ok\"\n",
    "print(wSummary)\n",
    "expectedWIn = 3518\n",
    "expectedWOut = 24908\n",
    "expectedNIn = 3675\n",
    "expectedNOut = 7500\n",
    "print(\"WIn:\", \"ok\" if np_test.abs(np_test.round(getWIn(D_Iris_Test, C_Iris_Test)) - expectedWIn) < 2 else \"failed\")\n",
    "print(\"WOut:\", \"ok\" if np_test.abs(np_test.round(getWOut(D_Iris_Test, C_Iris_Test)) - expectedWOut) < 2 else \"failed\")\n",
    "print(\"NIn:\", \"ok\" if getNIn(C_Iris_Test) == 3675 else \"failed\")\n",
    "print(\"NOut:\", \"ok\" if getNOut(C_Iris_Test) == 7500 else \"failed\")"
   ]
  },
  {
   "cell_type": "code",
   "execution_count": 193,
   "metadata": {},
   "outputs": [
    {
     "name": "stdout",
     "output_type": "stream",
     "text": [
      "\n",
      "Test Metrics\n",
      "------------------\n",
      "beta:\t ok\n",
      "cindex:\t ok\n"
     ]
    },
    {
     "ename": "NameError",
     "evalue": "name 'NormalizedCut' is not defined",
     "output_type": "error",
     "traceback": [
      "\u001b[1;31m---------------------------------------------------------------------------\u001b[0m",
      "\u001b[1;31mNameError\u001b[0m                                 Traceback (most recent call last)",
      "Cell \u001b[1;32mIn[193], line 20\u001b[0m\n\u001b[0;32m     18\u001b[0m \u001b[38;5;28;01mfor\u001b[39;00m m \u001b[38;5;129;01min\u001b[39;00m expected:\n\u001b[0;32m     19\u001b[0m     e \u001b[38;5;241m=\u001b[39m np\u001b[38;5;241m.\u001b[39mround(expected[m], \u001b[38;5;241m2\u001b[39m)\n\u001b[1;32m---> 20\u001b[0m     a \u001b[38;5;241m=\u001b[39m \u001b[43mgetMetric\u001b[49m\u001b[43m(\u001b[49m\u001b[43mA_Iris_Test\u001b[49m\u001b[43m,\u001b[49m\u001b[43m \u001b[49m\u001b[43mC_Iris_Test\u001b[49m\u001b[43m,\u001b[49m\u001b[43m \u001b[49m\u001b[43mm\u001b[49m\u001b[43m)\u001b[49m\n\u001b[0;32m     21\u001b[0m     a \u001b[38;5;241m=\u001b[39m np\u001b[38;5;241m.\u001b[39mround(a, \u001b[38;5;241m2\u001b[39m) \u001b[38;5;28;01mif\u001b[39;00m \u001b[38;5;129;01mnot\u001b[39;00m a \u001b[38;5;129;01mis\u001b[39;00m \u001b[38;5;28;01mNone\u001b[39;00m \u001b[38;5;28;01melse\u001b[39;00m \u001b[38;5;28;01mNone\u001b[39;00m\n\u001b[0;32m     22\u001b[0m     \u001b[38;5;28mprint\u001b[39m(m \u001b[38;5;241m+\u001b[39m \u001b[38;5;124m\"\u001b[39m\u001b[38;5;124m:\u001b[39m\u001b[38;5;130;01m\\t\u001b[39;00m\u001b[38;5;124m\"\u001b[39m, \u001b[38;5;124m\"\u001b[39m\u001b[38;5;124mok\u001b[39m\u001b[38;5;124m\"\u001b[39m \u001b[38;5;28;01mif\u001b[39;00m e \u001b[38;5;241m==\u001b[39m a \u001b[38;5;28;01melse\u001b[39;00m \u001b[38;5;124m\"\u001b[39m\u001b[38;5;124mfailed. Expected \u001b[39m\u001b[38;5;124m\"\u001b[39m \u001b[38;5;241m+\u001b[39m \u001b[38;5;28mstr\u001b[39m(e) \u001b[38;5;241m+\u001b[39m \u001b[38;5;124m\"\u001b[39m\u001b[38;5;124m but saw \u001b[39m\u001b[38;5;124m\"\u001b[39m \u001b[38;5;241m+\u001b[39m \u001b[38;5;28mstr\u001b[39m(a))\n",
      "Cell \u001b[1;32mIn[191], line 7\u001b[0m, in \u001b[0;36mgetMetric\u001b[1;34m(A, C, metric)\u001b[0m\n\u001b[0;32m      5\u001b[0m     \u001b[38;5;28;01mreturn\u001b[39;00m getCIndex(A, C)\n\u001b[0;32m      6\u001b[0m \u001b[38;5;28;01melif\u001b[39;00m metric \u001b[38;5;241m==\u001b[39m \u001b[38;5;124m\"\u001b[39m\u001b[38;5;124mnc\u001b[39m\u001b[38;5;124m\"\u001b[39m:\n\u001b[1;32m----> 7\u001b[0m     \u001b[38;5;28;01mreturn\u001b[39;00m \u001b[43mgetNormalizedCut\u001b[49m\u001b[43m(\u001b[49m\u001b[43mA\u001b[49m\u001b[43m,\u001b[49m\u001b[43m \u001b[49m\u001b[43mC\u001b[49m\u001b[43m)\u001b[49m\n\u001b[0;32m      8\u001b[0m \u001b[38;5;28;01melif\u001b[39;00m metric \u001b[38;5;241m==\u001b[39m \u001b[38;5;124m\"\u001b[39m\u001b[38;5;124mdunn\u001b[39m\u001b[38;5;124m\"\u001b[39m:\n\u001b[0;32m      9\u001b[0m     \u001b[38;5;28;01mreturn\u001b[39;00m getDunn(A, C)\n",
      "Cell \u001b[1;32mIn[187], line 6\u001b[0m, in \u001b[0;36mgetNormalizedCut\u001b[1;34m(A, C)\u001b[0m\n\u001b[0;32m      3\u001b[0m k \u001b[38;5;241m=\u001b[39m \u001b[38;5;28mlen\u001b[39m(\u001b[38;5;28mset\u001b[39m(C))\n\u001b[0;32m      4\u001b[0m D \u001b[38;5;241m=\u001b[39m getDistances(A)\n\u001b[1;32m----> 6\u001b[0m \u001b[38;5;28;01mreturn\u001b[39;00m \u001b[43mNormalizedCut\u001b[49m\n",
      "\u001b[1;31mNameError\u001b[0m: name 'NormalizedCut' is not defined"
     ]
    }
   ],
   "source": [
    "import pandas as pd_test\n",
    "import numpy as np_test\n",
    "dfIrisTest = pd_test.read_csv(\"https://raw.githubusercontent.com/uiuc-cse/data-fa14/gh-pages/data/iris.csv\")\n",
    "A_Iris_Test = dfIrisTest[dfIrisTest.columns[:4]].astype(float)\n",
    "C_Iris_Test = dfIrisTest[dfIrisTest.columns[4]]\n",
    "D_Iris_Test = getDistances(A_Iris_Test)\n",
    "\n",
    "# Test metrics\n",
    "print (\"\\nTest Metrics\\n------------------\")\n",
    "expected = {\n",
    "    \"beta\": 0.2882861014913346,\n",
    "    \"cindex\": 0.046803774122703735,\n",
    "    \"nc\": 2.6150343040385264,\n",
    "    \"dunn\": 0.05848053214719304,\n",
    "    \"db\": 0.8445815484442534,\n",
    "    \"sil\": 0.5032506980665507\n",
    "}\n",
    "for m in expected:\n",
    "    e = np.round(expected[m], 2)\n",
    "    a = getMetric(A_Iris_Test, C_Iris_Test, m)\n",
    "    a = np.round(a, 2) if not a is None else None\n",
    "    print(m + \":\\t\", \"ok\" if e == a else \"failed. Expected \" + str(e) + \" but saw \" + str(a))"
   ]
  }
 ],
 "metadata": {
  "kernelspec": {
   "display_name": "Python 3",
   "language": "python",
   "name": "python3"
  },
  "language_info": {
   "codemirror_mode": {
    "name": "ipython",
    "version": 3
   },
   "file_extension": ".py",
   "mimetype": "text/x-python",
   "name": "python",
   "nbconvert_exporter": "python",
   "pygments_lexer": "ipython3",
   "version": "3.10.11"
  }
 },
 "nbformat": 4,
 "nbformat_minor": 2
}
