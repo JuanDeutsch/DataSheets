{
 "cells": [
  {
   "cell_type": "code",
   "execution_count": 1,
   "metadata": {},
   "outputs": [
    {
     "name": "stderr",
     "output_type": "stream",
     "text": [
      "C:\\Users\\JULIAN PULIDO CASTRO\\AppData\\Local\\Temp\\ipykernel_33604\\328945948.py:2: DeprecationWarning: \n",
      "Pyarrow will become a required dependency of pandas in the next major release of pandas (pandas 3.0),\n",
      "(to allow more performant data types, such as the Arrow string type, and better interoperability with other libraries)\n",
      "but was not found to be installed on your system.\n",
      "If this would cause problems for you,\n",
      "please provide us feedback at https://github.com/pandas-dev/pandas/issues/54466\n",
      "        \n",
      "  import pandas as pd\n"
     ]
    }
   ],
   "source": [
    "import numpy as np\n",
    "import pandas as pd\n",
    "from template import *"
   ]
  },
  {
   "cell_type": "code",
   "execution_count": 2,
   "metadata": {},
   "outputs": [],
   "source": [
    "### HINT ON UNIT TESTS ###\n",
    "### All unit tests assume that itemsets are ordered lexicographically.\n",
    "### An itemset [B, A] is NOT valid! It must be [A, B]! This convention allows extreme speed up."
   ]
  },
  {
   "cell_type": "markdown",
   "metadata": {},
   "source": [
    "### Exercise 2"
   ]
  },
  {
   "cell_type": "code",
   "execution_count": 3,
   "metadata": {},
   "outputs": [],
   "source": [
    "def read_database(file):\n",
    "    db = []\n",
    "    with open(file) as f:\n",
    "        for line in f:\n",
    "            row = line.strip().split(\" \")\n",
    "            db.append(row)\n",
    "    return db"
   ]
  },
  {
   "cell_type": "markdown",
   "metadata": {},
   "source": [
    "### 2.1"
   ]
  },
  {
   "cell_type": "code",
   "execution_count": 4,
   "metadata": {},
   "outputs": [],
   "source": [
    "from itertools import combinations\n",
    "from template import *\n",
    "import pandas as pd\n",
    "from tqdm import tqdm\n",
    "import time\n",
    "from collections import OrderedDict\n",
    " \n",
    "def eclat(db, minsup):\n",
    "    P = OrderedDict()\n",
    "    \n",
    "    for i, transaction in enumerate(db):\n",
    "        for item in transaction:\n",
    "            if item in P:\n",
    "                P[item].add(i)\n",
    "            else:\n",
    "                P[item] = {i}\n",
    "                \n",
    "    F = []\n",
    "    def algorithm(P, minsup, F):\n",
    "        for Xa, t_Xa in P.items():\n",
    "            if len(t_Xa) >= minsup:  \n",
    "                F.append(([Xa], len(t_Xa)))\n",
    "            Pa = {}\n",
    "            for Xb in P.keys():\n",
    "                if (Xb > Xa):\n",
    "                    Xab = sorted(set(Xa + Xb))\n",
    "                    t_Xab = t_Xa.intersection(P[Xb])\n",
    "                    if len(t_Xab) >= minsup:\n",
    "                        Pa[tuple(Xab)] = t_Xab\n",
    "            if Pa:\n",
    "                algorithm(Pa, minsup, F)\n",
    "\n",
    "    algorithm(P, minsup, F) \n",
    "    \n",
    "    formatted_obtained_frequent_itemsets = []\n",
    "    for itemset, support in F:\n",
    "        if isinstance(itemset[0], tuple):\n",
    "            formatted_itemset = list(itemset[0])\n",
    "        else:\n",
    "            formatted_itemset = itemset\n",
    "        formatted_obtained_frequent_itemsets.append((formatted_itemset, support))\n",
    "\n",
    "    formatted_obtained_frequent_itemsets.sort(key=lambda x: x[0])\n",
    "    return formatted_obtained_frequent_itemsets\n",
    "\n",
    "\n"
   ]
  },
  {
   "cell_type": "code",
   "execution_count": 5,
   "metadata": {},
   "outputs": [
    {
     "name": "stdout",
     "output_type": "stream",
     "text": [
      "Syntax check on frequent itemset collection: OK\n",
      "Length of collection: OK\n",
      "F seems to be correct.\n"
     ]
    }
   ],
   "source": [
    "## Unit test\n",
    "import pandas as pd\n",
    "dbExample = read_database(\"example.dat\")\n",
    "\n",
    "def testSyntax(F):\n",
    "    found_problem = False\n",
    "    for t in F:\n",
    "        if type(t) != tuple:\n",
    "            print(\"Entry \" + str(t) + \" in frequent itemset collection F is not a tuple.\")\n",
    "            found_problem = True\n",
    "        elif len(t) != 2:\n",
    "            print(\"Entry \" + str(t) + \" in frequent itemset collection F is a tuple but of length \" + str(len(t)) + \" instead of 2.\")\n",
    "            found_problem = True\n",
    "        elif type(t[0]) != list:\n",
    "            print(\"Itemset type in entry \" + str(t) + \" is \" + str(type(t[0])) + \" but should be list!\")\n",
    "            found_problem = True\n",
    "        elif type(t[1]) != int:\n",
    "            print(\"Support in entry \" + str(t) + \" is of type \" + str(type(t[1])) + \" but should be int!\")\n",
    "            found_problem = True\n",
    "    print(\"Syntax check on frequent itemset collection: \" + (\"FAILED\" if found_problem else \"OK\"))\n",
    "\n",
    "def testFrequentItemsetCollection(F_exp, F_act):\n",
    "    # print(\"Expected frequent itemset collection:\")\n",
    "    # print(F_exp)\n",
    "    # print(\"Obtained frequent itemset collection:\")\n",
    "    # print(F_act)\n",
    "    testSyntax(F_act)\n",
    "    length_exp = len(F_exp)\n",
    "    length_act = len(F_act)\n",
    "    print(\"Length of collection: \" + str(\"OK\" if length_exp == length_act else \"FAILED, expected length \" + str(length_exp) + \" but saw \" + str(length_act)))\n",
    "    obsolete = [f for f in F_act if not f in F_exp]\n",
    "    missing = [f for f in F_exp if not f in F_act]\n",
    "    if obsolete:\n",
    "        print(\"Found unexpected entries in F: \" + str(obsolete))\n",
    "    if missing:\n",
    "        print(\"Missing entries in F: \" + str(missing))\n",
    "    if not missing and not obsolete:\n",
    "        print(\"F seems to be correct.\")\n",
    "\n",
    "F_exp = [(['A'], 4), (['A', 'B'], 4), (['A', 'B', 'D'], 3), (['A', 'B', 'D', 'E'], 3), (['A', 'B', 'E'], 4), (['A', 'D'], 3), (['A', 'D', 'E'], 3), (['A', 'E'], 4), (['B'], 6), (['B', 'C'], 4), (['B', 'C', 'E'], 3), (['B', 'D'], 4), (['B', 'D', 'E'], 3), (['B', 'E'], 5), (['C'], 4), (['C', 'E'], 3), (['D'], 4), (['D', 'E'], 3), (['E'], 5)]\n",
    "\n",
    "# Test ECLAT\n",
    "F_act = eclat(dbExample, 3)\n",
    "testFrequentItemsetCollection(F_exp, F_act)"
   ]
  },
  {
   "cell_type": "code",
   "execution_count": 6,
   "metadata": {},
   "outputs": [
    {
     "name": "stdout",
     "output_type": "stream",
     "text": [
      "Runtime: 10.753705 seconds\n"
     ]
    },
    {
     "data": {
      "text/html": [
       "<div>\n",
       "<style scoped>\n",
       "    .dataframe tbody tr th:only-of-type {\n",
       "        vertical-align: middle;\n",
       "    }\n",
       "\n",
       "    .dataframe tbody tr th {\n",
       "        vertical-align: top;\n",
       "    }\n",
       "\n",
       "    .dataframe thead th {\n",
       "        text-align: right;\n",
       "    }\n",
       "</style>\n",
       "<table border=\"1\" class=\"dataframe\">\n",
       "  <thead>\n",
       "    <tr style=\"text-align: right;\">\n",
       "      <th></th>\n",
       "      <th>Frequent Itemset</th>\n",
       "      <th>Support</th>\n",
       "    </tr>\n",
       "  </thead>\n",
       "  <tbody>\n",
       "    <tr>\n",
       "      <th>0</th>\n",
       "      <td>[0]</td>\n",
       "      <td>594</td>\n",
       "    </tr>\n",
       "    <tr>\n",
       "      <th>1</th>\n",
       "      <td>[0, 1, 2]</td>\n",
       "      <td>503</td>\n",
       "    </tr>\n",
       "    <tr>\n",
       "      <th>2</th>\n",
       "      <td>[0, 1, 2, 3]</td>\n",
       "      <td>512</td>\n",
       "    </tr>\n",
       "    <tr>\n",
       "      <th>3</th>\n",
       "      <td>[0, 1, 2, 3, 4, 5, 7]</td>\n",
       "      <td>565</td>\n",
       "    </tr>\n",
       "    <tr>\n",
       "      <th>4</th>\n",
       "      <td>[0, 1, 2, 3, 4, 5, 7, 8]</td>\n",
       "      <td>532</td>\n",
       "    </tr>\n",
       "    <tr>\n",
       "      <th>...</th>\n",
       "      <td>...</td>\n",
       "      <td>...</td>\n",
       "    </tr>\n",
       "    <tr>\n",
       "      <th>1034</th>\n",
       "      <td>[989]</td>\n",
       "      <td>1289</td>\n",
       "    </tr>\n",
       "    <tr>\n",
       "      <th>1035</th>\n",
       "      <td>[991]</td>\n",
       "      <td>1268</td>\n",
       "    </tr>\n",
       "    <tr>\n",
       "      <th>1036</th>\n",
       "      <td>[992]</td>\n",
       "      <td>1116</td>\n",
       "    </tr>\n",
       "    <tr>\n",
       "      <th>1037</th>\n",
       "      <td>[995]</td>\n",
       "      <td>1521</td>\n",
       "    </tr>\n",
       "    <tr>\n",
       "      <th>1038</th>\n",
       "      <td>[998]</td>\n",
       "      <td>2713</td>\n",
       "    </tr>\n",
       "  </tbody>\n",
       "</table>\n",
       "<p>1039 rows × 2 columns</p>\n",
       "</div>"
      ],
      "text/plain": [
       "              Frequent Itemset  Support\n",
       "0                          [0]      594\n",
       "1                    [0, 1, 2]      503\n",
       "2                 [0, 1, 2, 3]      512\n",
       "3        [0, 1, 2, 3, 4, 5, 7]      565\n",
       "4     [0, 1, 2, 3, 4, 5, 7, 8]      532\n",
       "...                        ...      ...\n",
       "1034                     [989]     1289\n",
       "1035                     [991]     1268\n",
       "1036                     [992]     1116\n",
       "1037                     [995]     1521\n",
       "1038                     [998]     2713\n",
       "\n",
       "[1039 rows x 2 columns]"
      ]
     },
     "execution_count": 6,
     "metadata": {},
     "output_type": "execute_result"
    }
   ],
   "source": [
    "import time\n",
    "\n",
    "data = read_database('shop.dat')\n",
    "minsup = 500\n",
    "\n",
    "start = time.time()\n",
    "F_shop = eclat(data, minsup)\n",
    "end = time.time()\n",
    "runtime = end - start\n",
    "\n",
    "print(f\"Runtime: {runtime:.6f} seconds\")\n",
    "\n",
    "df = pd.DataFrame(F_shop, columns=['Frequent Itemset', 'Support'])\n",
    "df"
   ]
  },
  {
   "cell_type": "markdown",
   "metadata": {},
   "source": [
    "### 2.2"
   ]
  },
  {
   "cell_type": "code",
   "execution_count": 7,
   "metadata": {},
   "outputs": [],
   "source": [
    "def getStrongRulesFromFrequentSets(fsets, minconf):\n",
    "    strong_rules = []\n",
    "    for item in fsets:\n",
    "        frequentSet = item[0]\n",
    "        fsets_sup = item[1]\n",
    "        if len(frequentSet) >= 2:\n",
    "            A = getSubsets(frequentSet)\n",
    "            while A:\n",
    "                X = A.pop()\n",
    "                index_x = [i[0] for i in fsets].index(X)\n",
    "                c = fsets_sup / fsets[index_x][1]\n",
    "                if c >= minconf:\n",
    "                    Y = list(frequentSet)\n",
    "                    for item in X:\n",
    "                        Y.remove(item)\n",
    "                    strong_rules.append((X, Y, fsets_sup, c))\n",
    "                else:\n",
    "                    if len(X) >= 2:\n",
    "                        W_sets = getSubsets(X)\n",
    "                        A = [a for a in A if a not in W_sets]\n",
    "    return strong_rules\n",
    "\n",
    "\n",
    "def getSubsets(set):\n",
    "    subsets = []\n",
    "    x = len(set)\n",
    "    for i in range(1 << x):\n",
    "       subsets.append([set[j] for j in range(x) if (i & (1 << j))])\n",
    "\n",
    "    subsets.pop(-1)\n",
    "    subsets.pop(0)\n",
    "\n",
    "    return subsets\n",
    "\n",
    "def getStrongRulesForDatabase(db, minsup, minconf):\n",
    "    fsets = eclat(db, minsup)\n",
    "    strong_rules = getStrongRulesFromFrequentSets(fsets, minconf)\n",
    "    return strong_rules\n"
   ]
  },
  {
   "cell_type": "code",
   "execution_count": 8,
   "metadata": {},
   "outputs": [
    {
     "name": "stdout",
     "output_type": "stream",
     "text": [
      "Syntax check OK\n",
      "Length of rule set: OK\n",
      "Rule set test: OK\n"
     ]
    }
   ],
   "source": [
    "def testRuleGeneration(R_exp, R_act):\n",
    "\n",
    "    # test syntax\n",
    "    found_problem = False\n",
    "    for r in R_act:\n",
    "        if type(r) != tuple:\n",
    "            print(\"Rule \" + str(r) + \" is not represented as a tuple!\")\n",
    "            found_problem = True\n",
    "        if len(r) != 4:\n",
    "            print(\"Rule \" + str(r) + \" does not consist of 4 entries. Should be (premise, conclusion, (absolute) support, confidence)\")\n",
    "            found_problem = True\n",
    "        if type(r[0]) != list:\n",
    "            print(\"Premise of rule \" + str(r) + \" is of type \" + str(type(r[0])) + \" but should be list!\")\n",
    "            found_problem = True\n",
    "        if type(r[1]) != list:\n",
    "            print(\"Conclusion of rule \" + str(r) + \" is of type \" + str(type(r[0])) + \" but should be list!\")\n",
    "            found_problem = True\n",
    "    print(\"Syntax check \" + (\"FAILED. Skipping rest of the test.\" if found_problem else \"OK\"))\n",
    "    if found_problem:\n",
    "        return\n",
    "    \n",
    "    # semantics test\n",
    "    length_exp = len(R_exp)\n",
    "    length_act = len(R_act)\n",
    "    print(\"Length of rule set: \" + str(\"OK\" if length_exp == length_act else \"FAILED, expected length \" + str(length_exp) + \" but saw \" + str(length_act)))\n",
    "    obsolete = [f for f in R_act if not f in R_exp]\n",
    "    missing = [f for f in R_exp if not f in R_act]\n",
    "    if obsolete:\n",
    "        print(\"Found unexpected entries in R: \" + str(obsolete))\n",
    "        found_problem = True\n",
    "    if missing:\n",
    "        print(\"Missing entries in R: \" + str(missing))\n",
    "        found_problem = True\n",
    "    print(\"Rule set test: \" + (\"FAILED\" if found_problem else \"OK\"))\n",
    "\n",
    "R_exp = [(['A'], ['B'], 4, 1.0), (['A', 'D'], ['B'], 3, 1.0), (['B', 'D', 'E'], ['A'], 3, 1.0), (['A', 'D', 'E'], ['B'], 3, 1.0), (['A', 'B', 'D'], ['E'], 3, 1.0), (['D', 'E'], ['A', 'B'], 3, 1.0), (['A', 'D'], ['B', 'E'], 3, 1.0), (['A', 'E'], ['B'], 4, 1.0), (['A', 'B'], ['E'], 4, 1.0), (['A'], ['B', 'E'], 4, 1.0), (['D', 'E'], ['A'], 3, 1.0), (['A', 'D'], ['E'], 3, 1.0), (['A'], ['E'], 4, 1.0), (['C'], ['B'], 4, 1.0), (['C', 'E'], ['B'], 3, 1.0), (['D'], ['B'], 4, 1.0), (['D', 'E'], ['B'], 3, 1.0), (['E'], ['B'], 5, 1.0)]\n",
    "R_act = getStrongRulesForDatabase(dbExample, 3, 1.0)\n",
    "testRuleGeneration(R_exp, R_act)"
   ]
  },
  {
   "cell_type": "markdown",
   "metadata": {},
   "source": [
    "### 3"
   ]
  },
  {
   "cell_type": "code",
   "execution_count": 9,
   "metadata": {},
   "outputs": [
    {
     "ename": "ValueError",
     "evalue": "['1', '2'] is not in list",
     "output_type": "error",
     "traceback": [
      "\u001b[1;31m---------------------------------------------------------------------------\u001b[0m",
      "\u001b[1;31mValueError\u001b[0m                                Traceback (most recent call last)",
      "Cell \u001b[1;32mIn[9], line 12\u001b[0m\n\u001b[0;32m      7\u001b[0m     filtered_rules_sorted \u001b[38;5;241m=\u001b[39m \u001b[38;5;28msorted\u001b[39m(filtered_rules, key\u001b[38;5;241m=\u001b[39m\u001b[38;5;28;01mlambda\u001b[39;00m x: \u001b[38;5;28mlen\u001b[39m(x[\u001b[38;5;241m1\u001b[39m]), reverse\u001b[38;5;241m=\u001b[39m\u001b[38;5;28;01mTrue\u001b[39;00m)\n\u001b[0;32m      9\u001b[0m     \u001b[38;5;28;01mreturn\u001b[39;00m sorted_rules, filtered_rules_sorted\n\u001b[1;32m---> 12\u001b[0m strong_rules \u001b[38;5;241m=\u001b[39m \u001b[43mgetStrongRulesForDatabase\u001b[49m\u001b[43m(\u001b[49m\u001b[43mdata\u001b[49m\u001b[43m,\u001b[49m\u001b[43m \u001b[49m\u001b[38;5;241;43m500\u001b[39;49m\u001b[43m,\u001b[49m\u001b[43m \u001b[49m\u001b[38;5;241;43m0.75\u001b[39;49m\u001b[43m)\u001b[49m\n\u001b[0;32m     13\u001b[0m sorted_rules, filtered_rules_sorted \u001b[38;5;241m=\u001b[39m filterAndSortStrongRules(strong_rules)\n\u001b[0;32m     16\u001b[0m \u001b[38;5;28mprint\u001b[39m(\u001b[38;5;124m\"\u001b[39m\u001b[38;5;124mTodas las reglas fuertes ordenadas por soporte:\u001b[39m\u001b[38;5;124m\"\u001b[39m)\n",
      "Cell \u001b[1;32mIn[7], line 37\u001b[0m, in \u001b[0;36mgetStrongRulesForDatabase\u001b[1;34m(db, minsup, minconf)\u001b[0m\n\u001b[0;32m     35\u001b[0m \u001b[38;5;28;01mdef\u001b[39;00m \u001b[38;5;21mgetStrongRulesForDatabase\u001b[39m(db, minsup, minconf):\n\u001b[0;32m     36\u001b[0m     fsets \u001b[38;5;241m=\u001b[39m eclat(db, minsup)\n\u001b[1;32m---> 37\u001b[0m     strong_rules \u001b[38;5;241m=\u001b[39m \u001b[43mgetStrongRulesFromFrequentSets\u001b[49m\u001b[43m(\u001b[49m\u001b[43mfsets\u001b[49m\u001b[43m,\u001b[49m\u001b[43m \u001b[49m\u001b[43mminconf\u001b[49m\u001b[43m)\u001b[49m\n\u001b[0;32m     38\u001b[0m     \u001b[38;5;28;01mreturn\u001b[39;00m strong_rules\n",
      "Cell \u001b[1;32mIn[7], line 10\u001b[0m, in \u001b[0;36mgetStrongRulesFromFrequentSets\u001b[1;34m(fsets, minconf)\u001b[0m\n\u001b[0;32m      8\u001b[0m \u001b[38;5;28;01mwhile\u001b[39;00m A:\n\u001b[0;32m      9\u001b[0m     X \u001b[38;5;241m=\u001b[39m A\u001b[38;5;241m.\u001b[39mpop()\n\u001b[1;32m---> 10\u001b[0m     index_x \u001b[38;5;241m=\u001b[39m \u001b[43m[\u001b[49m\u001b[43mi\u001b[49m\u001b[43m[\u001b[49m\u001b[38;5;241;43m0\u001b[39;49m\u001b[43m]\u001b[49m\u001b[43m \u001b[49m\u001b[38;5;28;43;01mfor\u001b[39;49;00m\u001b[43m \u001b[49m\u001b[43mi\u001b[49m\u001b[43m \u001b[49m\u001b[38;5;129;43;01min\u001b[39;49;00m\u001b[43m \u001b[49m\u001b[43mfsets\u001b[49m\u001b[43m]\u001b[49m\u001b[38;5;241;43m.\u001b[39;49m\u001b[43mindex\u001b[49m\u001b[43m(\u001b[49m\u001b[43mX\u001b[49m\u001b[43m)\u001b[49m\n\u001b[0;32m     11\u001b[0m     c \u001b[38;5;241m=\u001b[39m fsets_sup \u001b[38;5;241m/\u001b[39m fsets[index_x][\u001b[38;5;241m1\u001b[39m]\n\u001b[0;32m     12\u001b[0m     \u001b[38;5;28;01mif\u001b[39;00m c \u001b[38;5;241m>\u001b[39m\u001b[38;5;241m=\u001b[39m minconf:\n",
      "\u001b[1;31mValueError\u001b[0m: ['1', '2'] is not in list"
     ]
    }
   ],
   "source": [
    "\n",
    "def filterAndSortStrongRules(strong_rules):\n",
    "    \n",
    "    sorted_rules = sorted(strong_rules, key=lambda x: x[2], reverse=True)\n",
    "\n",
    "    filtered_rules = [rule for rule in sorted_rules if len(rule[1]) >= 2]\n",
    "\n",
    "    filtered_rules_sorted = sorted(filtered_rules, key=lambda x: len(x[1]), reverse=True)\n",
    "\n",
    "    return sorted_rules, filtered_rules_sorted\n",
    "\n",
    "\n",
    "strong_rules = getStrongRulesForDatabase(data, 500, 0.75)\n",
    "sorted_rules, filtered_rules_sorted = filterAndSortStrongRules(strong_rules)\n",
    "\n",
    "\n",
    "print(\"Todas las reglas fuertes ordenadas por soporte:\")\n",
    "for rule in sorted_rules:\n",
    "    print(rule)\n",
    "\n",
    "\n",
    "print(\"\\nReglas fuertes con al menos dos elementos en la conclusión, ordenadas por longitud de la conclusión:\")\n",
    "for rule in filtered_rules_sorted:\n",
    "    print(rule)"
   ]
  }
 ],
 "metadata": {
  "kernelspec": {
   "display_name": "Python 3 (ipykernel)",
   "language": "python",
   "name": "python3"
  },
  "language_info": {
   "codemirror_mode": {
    "name": "ipython",
    "version": 3
   },
   "file_extension": ".py",
   "mimetype": "text/x-python",
   "name": "python",
   "nbconvert_exporter": "python",
   "pygments_lexer": "ipython3",
   "version": "3.12.1"
  }
 },
 "nbformat": 4,
 "nbformat_minor": 4
}
