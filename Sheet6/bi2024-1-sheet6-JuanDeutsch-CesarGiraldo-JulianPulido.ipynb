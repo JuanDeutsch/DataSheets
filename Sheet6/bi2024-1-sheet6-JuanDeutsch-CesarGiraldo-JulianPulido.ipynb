{
 "cells": [
  {
   "cell_type": "code",
   "execution_count": null,
   "metadata": {},
   "outputs": [],
   "source": []
  },
  {
   "cell_type": "code",
   "execution_count": 140,
   "metadata": {},
   "outputs": [],
   "source": [
    "from itertools import combinations\n",
    "from template import *\n",
    "import pandas as pd\n",
    "from tqdm import tqdm\n",
    "import time\n",
    "from collections import OrderedDict\n",
    " \n",
    "def eclat(db, minsup):\n",
    "    P = OrderedDict()\n",
    "    \n",
    "    for i, transaction in enumerate(db):\n",
    "        for item in transaction:\n",
    "            if item in P:\n",
    "                P[item].add(i)\n",
    "            else:\n",
    "                P[item] = {i}\n",
    "                \n",
    "    F = []\n",
    "    def algorithm(P, minsup, F):\n",
    "        for Xa, t_Xa in P.items():  # Acceder a los elementos de P como un OrderedDict\n",
    "            F.append(([Xa], len(t_Xa)))  # Convertir Xa en una lista de un solo elemento\n",
    "            Pa = {}\n",
    "            for Xb in P.keys():\n",
    "                if (Xb > Xa):  # Convertir Xb en una lista de un solo elemento antes de la comparación\n",
    "                    Xab = sorted(set(Xa + Xb))\n",
    "                    t_Xab = t_Xa.intersection(P[Xb])  # Calcular el soporte de Xab\n",
    "                    if len(t_Xab) >= minsup:\n",
    "                        Pa[tuple(Xab)] = t_Xab  # Convertir Xab en una tupla antes de usarlo como clave\n",
    "            if Pa:\n",
    "                algorithm(Pa, minsup, F)  # Llamada recursiva\n",
    "    \n",
    "    algorithm(P, minsup, F) \n",
    "    \n",
    "    formatted_obtained_frequent_itemsets = []\n",
    "    for itemset, support in F:\n",
    "        if isinstance(itemset[0], tuple):\n",
    "            formatted_itemset = list(itemset[0])\n",
    "        else:\n",
    "            formatted_itemset = itemset\n",
    "        formatted_obtained_frequent_itemsets.append((formatted_itemset, support))\n",
    "\n",
    "    formatted_obtained_frequent_itemsets.sort(key=lambda x: x[0])\n",
    "    return formatted_obtained_frequent_itemsets"
   ]
  },
  {
   "cell_type": "code",
   "execution_count": 141,
   "metadata": {},
   "outputs": [
    {
     "name": "stdout",
     "output_type": "stream",
     "text": [
      "                       Itemset  Support\n",
      "0                          [0]      594\n",
      "1                    [0, 1, 2]      503\n",
      "2                 [0, 1, 2, 3]      512\n",
      "3        [0, 1, 2, 3, 4, 5, 7]      565\n",
      "4     [0, 1, 2, 3, 4, 5, 7, 8]      532\n",
      "...                        ...      ...\n",
      "1335                     [994]       33\n",
      "1336                     [995]     1521\n",
      "1337                     [997]      272\n",
      "1338                     [998]     2713\n",
      "1339                     [999]      193\n",
      "\n",
      "[1340 rows x 2 columns]\n",
      "Runtime: 7.144192934036255\n"
     ]
    }
   ],
   "source": [
    "import time\n",
    "import pandas as pd\n",
    "dbExample = read_database(\"shop.dat\")\n",
    "start_time = time.time()\n",
    "\n",
    "minsup = 500\n",
    "result_df = eclat(dbExample, minsup)\n",
    "\n",
    "end_time = time.time()\n",
    "runtime = end_time - start_time\n",
    "\n",
    "df_itemset_support = pd.DataFrame(result_df, columns=['Itemset', 'Support'])\n",
    "print(df_itemset_support)\n",
    "\n",
    "\n",
    "print(\"Runtime:\", runtime)\n"
   ]
  },
  {
   "cell_type": "markdown",
   "metadata": {},
   "source": []
  }
 ],
 "metadata": {
  "kernelspec": {
   "display_name": "Python 3",
   "language": "python",
   "name": "python3"
  },
  "language_info": {
   "codemirror_mode": {
    "name": "ipython",
    "version": 3
   },
   "file_extension": ".py",
   "mimetype": "text/x-python",
   "name": "python",
   "nbconvert_exporter": "python",
   "pygments_lexer": "ipython3",
   "version": "3.11.0"
  }
 },
 "nbformat": 4,
 "nbformat_minor": 2
}
