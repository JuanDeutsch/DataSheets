{
 "cells": [
  {
   "cell_type": "code",
   "execution_count": 26,
   "metadata": {},
   "outputs": [],
   "source": [
    "import numpy as np\n",
    "import pandas as pd\n",
    "from template import *"
   ]
  },
  {
   "cell_type": "code",
   "execution_count": 27,
   "metadata": {},
   "outputs": [],
   "source": [
    "### HINT ON UNIT TESTS ###\n",
    "### All unit tests assume that itemsets are ordered lexicographically.\n",
    "### An itemset [B, A] is NOT valid! It must be [A, B]! This convention allows extreme speed up."
   ]
  },
  {
   "cell_type": "code",
   "execution_count": 83,
   "metadata": {},
   "outputs": [],
   "source": [
    "from itertools import combinations\n",
    "from template import *\n",
    "import pandas as pd\n",
    "from tqdm import tqdm\n",
    "import time\n",
    "from collections import OrderedDict\n",
    "\n",
    "dbExample = read_database(\"example.dat\")\n",
    "def eclat(db, minsup):\n",
    "    P = OrderedDict()\n",
    "    \n",
    "    for i, transaction in enumerate(db):\n",
    "        for item in transaction:\n",
    "            if item in P:\n",
    "                P[item].add(i)\n",
    "            else:\n",
    "                P[item] = {i}\n",
    "                \n",
    "    F = []\n",
    "    def algorithm(P, minsup, F):\n",
    "        for Xa, t_Xa in P.items():  # Acceder a los elementos de P como un OrderedDict\n",
    "            F.append(([Xa], len(t_Xa)))  # Convertir Xa en una lista de un solo elemento\n",
    "            Pa = {}\n",
    "            for Xb in P.keys():\n",
    "                if (Xb > Xa):  # Convertir Xb en una lista de un solo elemento antes de la comparación\n",
    "                    Xab = sorted(set(Xa + Xb))\n",
    "                    t_Xab = t_Xa.intersection(P[Xb])  # Calcular el soporte de Xab\n",
    "                    if len(t_Xab) >= minsup:\n",
    "                        Pa[tuple(Xab)] = t_Xab  # Convertir Xab en una tupla antes de usarlo como clave\n",
    "            if Pa:\n",
    "                algorithm(Pa, minsup, F)  # Llamada recursiva\n",
    "    \n",
    "    algorithm(P, minsup, F) \n",
    "    \n",
    "    formatted_obtained_frequent_itemsets = []\n",
    "    for itemset, support in F:\n",
    "        if isinstance(itemset[0], tuple):\n",
    "            formatted_itemset = list(itemset[0])\n",
    "        else:\n",
    "            formatted_itemset = itemset\n",
    "        formatted_obtained_frequent_itemsets.append((formatted_itemset, support))\n",
    "\n",
    "    formatted_obtained_frequent_itemsets.sort(key=lambda x: x[0])\n",
    "    return formatted_obtained_frequent_itemsets\n",
    "\n",
    "\n",
    "\n"
   ]
  },
  {
   "cell_type": "code",
   "execution_count": 84,
   "metadata": {},
   "outputs": [
    {
     "name": "stdout",
     "output_type": "stream",
     "text": [
      "Syntax check on frequent itemset collection: OK\n",
      "Length of collection: OK\n",
      "F seems to be correct.\n"
     ]
    }
   ],
   "source": [
    "## Unit test\n",
    "import pandas as pd\n",
    "dbExample = read_database(\"example.dat\")\n",
    "\n",
    "def testSyntax(F):\n",
    "    found_problem = False\n",
    "    for t in F:\n",
    "        if type(t) != tuple:\n",
    "            print(\"Entry \" + str(t) + \" in frequent itemset collection F is not a tuple.\")\n",
    "            found_problem = True\n",
    "        elif len(t) != 2:\n",
    "            print(\"Entry \" + str(t) + \" in frequent itemset collection F is a tuple but of length \" + str(len(t)) + \" instead of 2.\")\n",
    "            found_problem = True\n",
    "        elif type(t[0]) != list:\n",
    "            print(\"Itemset type in entry \" + str(t) + \" is \" + str(type(t[0])) + \" but should be list!\")\n",
    "            found_problem = True\n",
    "        elif type(t[1]) != int:\n",
    "            print(\"Support in entry \" + str(t) + \" is of type \" + str(type(t[1])) + \" but should be int!\")\n",
    "            found_problem = True\n",
    "    print(\"Syntax check on frequent itemset collection: \" + (\"FAILED\" if found_problem else \"OK\"))\n",
    "\n",
    "def testFrequentItemsetCollection(F_exp, F_act):\n",
    "    # print(\"Expected frequent itemset collection:\")\n",
    "    # print(F_exp)\n",
    "    # print(\"Obtained frequent itemset collection:\")\n",
    "    # print(F_act)\n",
    "    testSyntax(F_act)\n",
    "    length_exp = len(F_exp)\n",
    "    length_act = len(F_act)\n",
    "    print(\"Length of collection: \" + str(\"OK\" if length_exp == length_act else \"FAILED, expected length \" + str(length_exp) + \" but saw \" + str(length_act)))\n",
    "    obsolete = [f for f in F_act if not f in F_exp]\n",
    "    missing = [f for f in F_exp if not f in F_act]\n",
    "    if obsolete:\n",
    "        print(\"Found unexpected entries in F: \" + str(obsolete))\n",
    "    if missing:\n",
    "        print(\"Missing entries in F: \" + str(missing))\n",
    "    if not missing and not obsolete:\n",
    "        print(\"F seems to be correct.\")\n",
    "\n",
    "F_exp = [(['A'], 4), (['A', 'B'], 4), (['A', 'B', 'D'], 3), (['A', 'B', 'D', 'E'], 3), (['A', 'B', 'E'], 4), (['A', 'D'], 3), (['A', 'D', 'E'], 3), (['A', 'E'], 4), (['B'], 6), (['B', 'C'], 4), (['B', 'C', 'E'], 3), (['B', 'D'], 4), (['B', 'D', 'E'], 3), (['B', 'E'], 5), (['C'], 4), (['C', 'E'], 3), (['D'], 4), (['D', 'E'], 3), (['E'], 5)]\n",
    "\n",
    "# Test ECLAT\n",
    "F_act = eclat(dbExample, 3)\n",
    "testFrequentItemsetCollection(F_exp, F_act)"
   ]
  },
  {
   "cell_type": "code",
   "execution_count": 134,
   "metadata": {},
   "outputs": [],
   "source": [
    "def get_strong_rules_from_frequent_sets(fsets, minconf):\n",
    "    strong_rules = []\n",
    "    fsets_sets = [item[0] for item in fsets]\n",
    "    fsets_sup = [item[1] for item in fsets]\n",
    "    \n",
    "    for i, frequent_set in enumerate(fsets_sets):\n",
    "        if len(frequent_set) >= 2:\n",
    "            A = get_subsets(frequent_set)\n",
    "            for X in A:\n",
    "                index_x = fsets_sets.index(X)\n",
    "                c = fsets_sup[i] / fsets_sup[index_x]\n",
    "                if c >= minconf:\n",
    "                    Y = list(frequent_set - X)\n",
    "                    strong_rules.append((X, Y, fsets_sup[i], c))\n",
    "    \n",
    "    return pd.DataFrame(strong_rules, columns=['Premise', 'Conclusion', 'Absolute Support', 'Confidence'])\n",
    "\n",
    "def get_strong_rules_for_database(database, minsup, minconf):\n",
    "    frequent_sets = eclat(database, minsup)\n",
    "    return get_strong_rules_from_frequent_sets(frequent_sets, minconf)"
   ]
  },
  {
   "cell_type": "code",
   "execution_count": 136,
   "metadata": {},
   "outputs": [
    {
     "name": "stdout",
     "output_type": "stream",
     "text": [
      "Syntax check OK\n",
      "Length of rule set: OK\n",
      "Rule set test: OK\n"
     ]
    }
   ],
   "source": [
    "def testRuleGeneration(R_exp, R_act):\n",
    "\n",
    "    # test syntax\n",
    "    found_problem = False\n",
    "    for r in R_act:\n",
    "        if type(r) != tuple:\n",
    "            print(\"Rule \" + str(r) + \" is not represented as a tuple!\")\n",
    "            found_problem = True\n",
    "        if len(r) != 4:\n",
    "            print(\"Rule \" + str(r) + \" does not consist of 4 entries. Should be (premise, conclusion, (absolute) support, confidence)\")\n",
    "            found_problem = True\n",
    "        if type(r[0]) != list:\n",
    "            print(\"Premise of rule \" + str(r) + \" is of type \" + str(type(r[0])) + \" but should be list!\")\n",
    "            found_problem = True\n",
    "        if type(r[1]) != list:\n",
    "            print(\"Conclusion of rule \" + str(r) + \" is of type \" + str(type(r[0])) + \" but should be list!\")\n",
    "            found_problem = True\n",
    "    print(\"Syntax check \" + (\"FAILED. Skipping rest of the test.\" if found_problem else \"OK\"))\n",
    "    if found_problem:\n",
    "        return\n",
    "    \n",
    "    # semantics test\n",
    "    length_exp = len(R_exp)\n",
    "    length_act = len(R_act)\n",
    "    print(\"Length of rule set: \" + str(\"OK\" if length_exp == length_act else \"FAILED, expected length \" + str(length_exp) + \" but saw \" + str(length_act)))\n",
    "    obsolete = [f for f in R_act if not f in R_exp]\n",
    "    missing = [f for f in R_exp if not f in R_act]\n",
    "    if obsolete:\n",
    "        print(\"Found unexpected entries in R: \" + str(obsolete))\n",
    "        found_problem = True\n",
    "    if missing:\n",
    "        print(\"Missing entries in R: \" + str(missing))\n",
    "        found_problem = True\n",
    "    print(\"Rule set test: \" + (\"FAILED\" if found_problem else \"OK\"))\n",
    "\n",
    "R_exp = [(['A'], ['B'], 4, 1.0), (['A', 'D'], ['B'], 3, 1.0), (['B', 'D', 'E'], ['A'], 3, 1.0), (['A', 'D', 'E'], ['B'], 3, 1.0), (['A', 'B', 'D'], ['E'], 3, 1.0), (['D', 'E'], ['A', 'B'], 3, 1.0), (['A', 'D'], ['B', 'E'], 3, 1.0), (['A', 'E'], ['B'], 4, 1.0), (['A', 'B'], ['E'], 4, 1.0), (['A'], ['B', 'E'], 4, 1.0), (['D', 'E'], ['A'], 3, 1.0), (['A', 'D'], ['E'], 3, 1.0), (['A'], ['E'], 4, 1.0), (['C'], ['B'], 4, 1.0), (['C', 'E'], ['B'], 3, 1.0), (['D'], ['B'], 4, 1.0), (['D', 'E'], ['B'], 3, 1.0), (['E'], ['B'], 5, 1.0)]\n",
    "R_act = getStrongRulesForDatabase(dbExample, 3, 1.0)\n",
    "testRuleGeneration(R_exp, R_act)"
   ]
  }
 ],
 "metadata": {
  "kernelspec": {
   "display_name": "Python 3 (ipykernel)",
   "language": "python",
   "name": "python3"
  },
  "language_info": {
   "codemirror_mode": {
    "name": "ipython",
    "version": 3
   },
   "file_extension": ".py",
   "mimetype": "text/x-python",
   "name": "python",
   "nbconvert_exporter": "python",
   "pygments_lexer": "ipython3",
   "version": "3.12.1"
  }
 },
 "nbformat": 4,
 "nbformat_minor": 4
}
