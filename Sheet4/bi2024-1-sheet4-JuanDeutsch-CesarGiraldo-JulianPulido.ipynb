{
 "cells": [
  {
   "cell_type": "code",
   "execution_count": 2,
   "metadata": {},
   "outputs": [],
   "source": [
    "import numpy as np\n",
    "import matplotlib.pyplot as plt"
   ]
  },
  {
   "cell_type": "markdown",
   "metadata": {},
   "source": [
    "### 1) Primer punto"
   ]
  },
  {
   "cell_type": "code",
   "execution_count": 281,
   "metadata": {},
   "outputs": [],
   "source": [
    "def distanciaEuclidaneaCuadrada(punto1, punto2):\n",
    "    return np.sum((punto1 - punto2) ** 2)\n",
    "\n",
    "centroides_camino1 = []\n",
    "centroides_camino2 = []\n",
    "\n",
    "def KMeans2(D, k, epsilon):\n",
    "\n",
    "    muestra, caracteristicas = np.shape(D)\n",
    "\n",
    "    centroides = D[np.random.choice(muestra, k, replace=False)]\n",
    "    t = 0\n",
    "    centroides_camino1 = []\n",
    "    centroides_camino2 = []\n",
    "    while True:\n",
    "        t += 1\n",
    "        print(f'Iteración {t}')\n",
    "        clusters = np.zeros(muestra)\n",
    "        for i, punto in enumerate(D):\n",
    "            clusters[i] = np.argmin([distanciaEuclidaneaCuadrada(punto, centroide) for centroide in centroides])\n",
    "        centroides_nuevos = np.zeros((k, caracteristicas))\n",
    "\n",
    "        for i in range(k):\n",
    "            centroides_nuevos[i] = np.mean(D[clusters == i], axis=0)\n",
    "        \n",
    "        centroides_camino1.append(centroides_nuevos[0])\n",
    "        centroides_camino2.append(centroides_nuevos[1])\n",
    "                    \n",
    "        if np.all(np.abs(centroides - centroides_nuevos) < epsilon):\n",
    "            \n",
    "            break\n",
    "\n",
    "        centroides = centroides_nuevos\n",
    "\n",
    "    return centroides, clusters, centroides_camino1, centroides_camino2\n"
   ]
  },
  {
   "cell_type": "code",
   "execution_count": 286,
   "metadata": {},
   "outputs": [
    {
     "name": "stdout",
     "output_type": "stream",
     "text": [
      "Iteración 1\n",
      "Iteración 2\n",
      "Iteración 3\n"
     ]
    },
    {
     "data": {
      "text/plain": [
       "<function matplotlib.pyplot.show(close=None, block=None)>"
      ]
     },
     "execution_count": 286,
     "metadata": {},
     "output_type": "execute_result"
    },
    {
     "data": {
      "image/png": "[encoded data removed]",
      "text/plain": [
       "<Figure size 640x480 with 1 Axes>"
      ]
     },
     "metadata": {},
     "output_type": "display_data"
    }
   ],
   "source": [
    "def dataset():\n",
    "    A = np.random.uniform(low=-0.5, high=0.5, size=(50, 2))\n",
    "    B = np.array([[10,10]])\n",
    "\n",
    "\n",
    "    return np.concatenate((A, B))\n",
    "\n",
    "centroides, clusters, camino1, camino2 = KMeans2(dataset(), k=2, epsilon=0.1)\n",
    "camino1 = np.array(camino1)\n",
    "camino2 = np.array(camino2)\n",
    "cluster1_x, cluster1_y = camino1[:, 0], camino1[:, 1]\n",
    "cluster2_x, cluster2_y = camino2[:, 0], camino2[:, 1]\n",
    "plt.scatter(cluster1_x, cluster1_y, color='blue', label='Cluster 1', marker='x')\n",
    "plt.scatter(cluster2_x, cluster2_y, color='red', label='Cluster 2', marker='x')\n",
    "plt.scatter(dataset()[:, 0], dataset()[:, 1], c=clusters, s=20)\n",
    "plt.scatter(centroides[:, 0], centroides[:, 1], c='red', marker='x')\n",
    "plt.show"
   ]
  },
  {
   "cell_type": "markdown",
   "metadata": {},
   "source": [
    "### Prueba César\n",
    "\n"
   ]
  },
  {
   "cell_type": "code",
   "execution_count": 108,
   "metadata": {},
   "outputs": [
    {
     "name": "stdout",
     "output_type": "stream",
     "text": [
      "Iteración 1\n",
      "1.0\n",
      "2.0\n",
      "0.0\n"
     ]
    },
    {
     "data": {
      "text/plain": [
       "(array([[7, 8, 9, 5],\n",
       "        [1, 2, 3, 5],\n",
       "        [4, 5, 6, 5]]),\n",
       " array([1., 2., 0.]))"
      ]
     },
     "execution_count": 108,
     "metadata": {},
     "output_type": "execute_result"
    }
   ],
   "source": [
    "def kMeans(A, k, eps, mu):\n",
    "    print(A)\n",
    "    muestra, caracteristicas = np.shape(A)\n",
    "    centroides = A[np.random.choice(A.flatten(), size=k, replace=False)]\n",
    "    while True:\n",
    "        \n",
    "        clusters = np.zeros(muestra)\n",
    "        for i, punto in enumerate(A):\n",
    "            clusters[i] = np.argmin([distanciaEuclidaneaCuadrada(punto, centroide) for centroide in centroides])\n",
    "            print(clusters[i])\n",
    "            \n",
    "        centroides_nuevos = np.zeros((k, caracteristicas))\n",
    "        for i in range(k):\n",
    "            centroides_nuevos[i]    = np.mean(A[clusters == i], axis=0)\n",
    "\n",
    "        if np.all(np.abs(centroides - centroides_nuevos) < eps):\n",
    "            break\n",
    "\n",
    "        centroides = centroides_nuevos\n",
    "\n",
    "    print(centroides)\n",
    "    np.argmin\n",
    "\n",
    "\n",
    "k = 3\n",
    "mu = [2.2, 1.5]\n",
    "mu = None\n",
    "eps = 0.1\n",
    "KMeans2(A, k, eps)"
   ]
  }
 ],
 "metadata": {
  "kernelspec": {
   "display_name": "Python 3",
   "language": "python",
   "name": "python3"
  },
  "language_info": {
   "codemirror_mode": {
    "name": "ipython",
    "version": 3
   },
   "file_extension": ".py",
   "mimetype": "text/x-python",
   "name": "python",
   "nbconvert_exporter": "python",
   "pygments_lexer": "ipython3",
   "version": "3.11.0"
  }
 },
 "nbformat": 4,
 "nbformat_minor": 2
}
